{
 "cells": [
  {
   "cell_type": "markdown",
   "id": "8c1583e6-a34e-455c-9cd4-18721ba40874",
   "metadata": {},
   "source": [
    "Preparing the Data and Loading the data"
   ]
  },
  {
   "cell_type": "markdown",
   "id": "7c818287-1ad5-4743-be80-f8d93078ec16",
   "metadata": {},
   "source": [
    "Begin by loading the Citi Bike and NOAA weather datasets into pandas. Use pandas.read_csv() to read each CSV file. If the data comes in multiple CSVs (for example, for different months), you can concatenate them."
   ]
  },
  {
   "cell_type": "markdown",
   "id": "5cc1dfd9-c4a5-4fff-8d39-235322be5031",
   "metadata": {},
   "source": [
    "Citi Bike Data"
   ]
  },
  {
   "cell_type": "code",
   "execution_count": 3,
   "id": "298f55e4-067b-4509-91c3-84ac7385e897",
   "metadata": {},
   "outputs": [],
   "source": [
    "import pandas as pd\n",
    "\n",
    "# Load multiple CSV files using pd.concat\n",
    "citi_bike_data = pd.concat([pd.read_csv(f'JC-201601-citibike-tripdata.csv') for i in range(1, 13)], ignore_index=True)\n"
   ]
  },
  {
   "cell_type": "markdown",
   "id": "d4ed1f4a-f949-495b-ae6b-00a55886f8c9",
   "metadata": {},
   "source": [
    "Weather Data"
   ]
  },
  {
   "cell_type": "code",
   "execution_count": 5,
   "id": "845ebd45-17e9-469f-82ac-1e9fe52abd55",
   "metadata": {},
   "outputs": [],
   "source": [
    "weather_data = pd.read_csv('newark_airport_2016.csv')\n"
   ]
  },
  {
   "cell_type": "markdown",
   "id": "fc1a7926-6e81-4598-8c6c-82f3e18e030c",
   "metadata": {},
   "source": [
    "After loading the data, check the first few rows of both datasets to get a sense of what they look like\n"
   ]
  },
  {
   "cell_type": "code",
   "execution_count": 9,
   "id": "1505bcc8-69f6-4b6f-b40f-463e5d9cb56c",
   "metadata": {},
   "outputs": [
    {
     "data": {
      "text/html": [
       "<div>\n",
       "<style scoped>\n",
       "    .dataframe tbody tr th:only-of-type {\n",
       "        vertical-align: middle;\n",
       "    }\n",
       "\n",
       "    .dataframe tbody tr th {\n",
       "        vertical-align: top;\n",
       "    }\n",
       "\n",
       "    .dataframe thead th {\n",
       "        text-align: right;\n",
       "    }\n",
       "</style>\n",
       "<table border=\"1\" class=\"dataframe\">\n",
       "  <thead>\n",
       "    <tr style=\"text-align: right;\">\n",
       "      <th></th>\n",
       "      <th>Trip Duration</th>\n",
       "      <th>Start Time</th>\n",
       "      <th>Stop Time</th>\n",
       "      <th>Start Station ID</th>\n",
       "      <th>Start Station Name</th>\n",
       "      <th>Start Station Latitude</th>\n",
       "      <th>Start Station Longitude</th>\n",
       "      <th>End Station ID</th>\n",
       "      <th>End Station Name</th>\n",
       "      <th>End Station Latitude</th>\n",
       "      <th>End Station Longitude</th>\n",
       "      <th>Bike ID</th>\n",
       "      <th>User Type</th>\n",
       "      <th>Birth Year</th>\n",
       "      <th>Gender</th>\n",
       "    </tr>\n",
       "  </thead>\n",
       "  <tbody>\n",
       "    <tr>\n",
       "      <th>0</th>\n",
       "      <td>362</td>\n",
       "      <td>2016-01-01 00:02:52</td>\n",
       "      <td>2016-01-01 00:08:54</td>\n",
       "      <td>3186</td>\n",
       "      <td>Grove St PATH</td>\n",
       "      <td>40.719586</td>\n",
       "      <td>-74.043117</td>\n",
       "      <td>3209</td>\n",
       "      <td>Brunswick St</td>\n",
       "      <td>40.724176</td>\n",
       "      <td>-74.050656</td>\n",
       "      <td>24647</td>\n",
       "      <td>Subscriber</td>\n",
       "      <td>1964.0</td>\n",
       "      <td>2</td>\n",
       "    </tr>\n",
       "    <tr>\n",
       "      <th>1</th>\n",
       "      <td>200</td>\n",
       "      <td>2016-01-01 00:18:22</td>\n",
       "      <td>2016-01-01 00:21:42</td>\n",
       "      <td>3186</td>\n",
       "      <td>Grove St PATH</td>\n",
       "      <td>40.719586</td>\n",
       "      <td>-74.043117</td>\n",
       "      <td>3213</td>\n",
       "      <td>Van Vorst Park</td>\n",
       "      <td>40.718489</td>\n",
       "      <td>-74.047727</td>\n",
       "      <td>24605</td>\n",
       "      <td>Subscriber</td>\n",
       "      <td>1962.0</td>\n",
       "      <td>1</td>\n",
       "    </tr>\n",
       "    <tr>\n",
       "      <th>2</th>\n",
       "      <td>202</td>\n",
       "      <td>2016-01-01 00:18:25</td>\n",
       "      <td>2016-01-01 00:21:47</td>\n",
       "      <td>3186</td>\n",
       "      <td>Grove St PATH</td>\n",
       "      <td>40.719586</td>\n",
       "      <td>-74.043117</td>\n",
       "      <td>3213</td>\n",
       "      <td>Van Vorst Park</td>\n",
       "      <td>40.718489</td>\n",
       "      <td>-74.047727</td>\n",
       "      <td>24689</td>\n",
       "      <td>Subscriber</td>\n",
       "      <td>1962.0</td>\n",
       "      <td>2</td>\n",
       "    </tr>\n",
       "    <tr>\n",
       "      <th>3</th>\n",
       "      <td>248</td>\n",
       "      <td>2016-01-01 00:23:13</td>\n",
       "      <td>2016-01-01 00:27:21</td>\n",
       "      <td>3209</td>\n",
       "      <td>Brunswick St</td>\n",
       "      <td>40.724176</td>\n",
       "      <td>-74.050656</td>\n",
       "      <td>3203</td>\n",
       "      <td>Hamilton Park</td>\n",
       "      <td>40.727596</td>\n",
       "      <td>-74.044247</td>\n",
       "      <td>24693</td>\n",
       "      <td>Subscriber</td>\n",
       "      <td>1984.0</td>\n",
       "      <td>1</td>\n",
       "    </tr>\n",
       "    <tr>\n",
       "      <th>4</th>\n",
       "      <td>903</td>\n",
       "      <td>2016-01-01 01:03:20</td>\n",
       "      <td>2016-01-01 01:18:24</td>\n",
       "      <td>3195</td>\n",
       "      <td>Sip Ave</td>\n",
       "      <td>40.730743</td>\n",
       "      <td>-74.063784</td>\n",
       "      <td>3210</td>\n",
       "      <td>Pershing Field</td>\n",
       "      <td>40.742677</td>\n",
       "      <td>-74.051789</td>\n",
       "      <td>24573</td>\n",
       "      <td>Customer</td>\n",
       "      <td>NaN</td>\n",
       "      <td>0</td>\n",
       "    </tr>\n",
       "  </tbody>\n",
       "</table>\n",
       "</div>"
      ],
      "text/plain": [
       "   Trip Duration           Start Time            Stop Time  Start Station ID  \\\n",
       "0            362  2016-01-01 00:02:52  2016-01-01 00:08:54              3186   \n",
       "1            200  2016-01-01 00:18:22  2016-01-01 00:21:42              3186   \n",
       "2            202  2016-01-01 00:18:25  2016-01-01 00:21:47              3186   \n",
       "3            248  2016-01-01 00:23:13  2016-01-01 00:27:21              3209   \n",
       "4            903  2016-01-01 01:03:20  2016-01-01 01:18:24              3195   \n",
       "\n",
       "  Start Station Name  Start Station Latitude  Start Station Longitude  \\\n",
       "0      Grove St PATH               40.719586               -74.043117   \n",
       "1      Grove St PATH               40.719586               -74.043117   \n",
       "2      Grove St PATH               40.719586               -74.043117   \n",
       "3       Brunswick St               40.724176               -74.050656   \n",
       "4            Sip Ave               40.730743               -74.063784   \n",
       "\n",
       "   End Station ID End Station Name  End Station Latitude  \\\n",
       "0            3209     Brunswick St             40.724176   \n",
       "1            3213   Van Vorst Park             40.718489   \n",
       "2            3213   Van Vorst Park             40.718489   \n",
       "3            3203    Hamilton Park             40.727596   \n",
       "4            3210   Pershing Field             40.742677   \n",
       "\n",
       "   End Station Longitude  Bike ID   User Type  Birth Year  Gender  \n",
       "0             -74.050656    24647  Subscriber      1964.0       2  \n",
       "1             -74.047727    24605  Subscriber      1962.0       1  \n",
       "2             -74.047727    24689  Subscriber      1962.0       2  \n",
       "3             -74.044247    24693  Subscriber      1984.0       1  \n",
       "4             -74.051789    24573    Customer         NaN       0  "
      ]
     },
     "execution_count": 9,
     "metadata": {},
     "output_type": "execute_result"
    }
   ],
   "source": [
    "citi_bike_data.head()\n"
   ]
  },
  {
   "cell_type": "code",
   "execution_count": 10,
   "id": "6257a0d8-2df2-421e-b5d7-ded76148cd61",
   "metadata": {},
   "outputs": [
    {
     "data": {
      "text/html": [
       "<div>\n",
       "<style scoped>\n",
       "    .dataframe tbody tr th:only-of-type {\n",
       "        vertical-align: middle;\n",
       "    }\n",
       "\n",
       "    .dataframe tbody tr th {\n",
       "        vertical-align: top;\n",
       "    }\n",
       "\n",
       "    .dataframe thead th {\n",
       "        text-align: right;\n",
       "    }\n",
       "</style>\n",
       "<table border=\"1\" class=\"dataframe\">\n",
       "  <thead>\n",
       "    <tr style=\"text-align: right;\">\n",
       "      <th></th>\n",
       "      <th>STATION</th>\n",
       "      <th>NAME</th>\n",
       "      <th>DATE</th>\n",
       "      <th>AWND</th>\n",
       "      <th>PGTM</th>\n",
       "      <th>PRCP</th>\n",
       "      <th>SNOW</th>\n",
       "      <th>SNWD</th>\n",
       "      <th>TAVG</th>\n",
       "      <th>TMAX</th>\n",
       "      <th>TMIN</th>\n",
       "      <th>TSUN</th>\n",
       "      <th>WDF2</th>\n",
       "      <th>WDF5</th>\n",
       "      <th>WSF2</th>\n",
       "      <th>WSF5</th>\n",
       "    </tr>\n",
       "  </thead>\n",
       "  <tbody>\n",
       "    <tr>\n",
       "      <th>0</th>\n",
       "      <td>USW00014734</td>\n",
       "      <td>NEWARK LIBERTY INTERNATIONAL AIRPORT, NJ US</td>\n",
       "      <td>2016-01-01</td>\n",
       "      <td>12.75</td>\n",
       "      <td>NaN</td>\n",
       "      <td>0.0</td>\n",
       "      <td>0.0</td>\n",
       "      <td>0.0</td>\n",
       "      <td>41</td>\n",
       "      <td>43</td>\n",
       "      <td>34</td>\n",
       "      <td>NaN</td>\n",
       "      <td>270</td>\n",
       "      <td>280.0</td>\n",
       "      <td>25.9</td>\n",
       "      <td>35.1</td>\n",
       "    </tr>\n",
       "    <tr>\n",
       "      <th>1</th>\n",
       "      <td>USW00014734</td>\n",
       "      <td>NEWARK LIBERTY INTERNATIONAL AIRPORT, NJ US</td>\n",
       "      <td>2016-01-02</td>\n",
       "      <td>9.40</td>\n",
       "      <td>NaN</td>\n",
       "      <td>0.0</td>\n",
       "      <td>0.0</td>\n",
       "      <td>0.0</td>\n",
       "      <td>36</td>\n",
       "      <td>42</td>\n",
       "      <td>30</td>\n",
       "      <td>NaN</td>\n",
       "      <td>260</td>\n",
       "      <td>260.0</td>\n",
       "      <td>21.0</td>\n",
       "      <td>25.1</td>\n",
       "    </tr>\n",
       "    <tr>\n",
       "      <th>2</th>\n",
       "      <td>USW00014734</td>\n",
       "      <td>NEWARK LIBERTY INTERNATIONAL AIRPORT, NJ US</td>\n",
       "      <td>2016-01-03</td>\n",
       "      <td>10.29</td>\n",
       "      <td>NaN</td>\n",
       "      <td>0.0</td>\n",
       "      <td>0.0</td>\n",
       "      <td>0.0</td>\n",
       "      <td>37</td>\n",
       "      <td>47</td>\n",
       "      <td>28</td>\n",
       "      <td>NaN</td>\n",
       "      <td>270</td>\n",
       "      <td>250.0</td>\n",
       "      <td>23.9</td>\n",
       "      <td>30.0</td>\n",
       "    </tr>\n",
       "    <tr>\n",
       "      <th>3</th>\n",
       "      <td>USW00014734</td>\n",
       "      <td>NEWARK LIBERTY INTERNATIONAL AIRPORT, NJ US</td>\n",
       "      <td>2016-01-04</td>\n",
       "      <td>17.22</td>\n",
       "      <td>NaN</td>\n",
       "      <td>0.0</td>\n",
       "      <td>0.0</td>\n",
       "      <td>0.0</td>\n",
       "      <td>32</td>\n",
       "      <td>35</td>\n",
       "      <td>14</td>\n",
       "      <td>NaN</td>\n",
       "      <td>330</td>\n",
       "      <td>330.0</td>\n",
       "      <td>25.9</td>\n",
       "      <td>33.1</td>\n",
       "    </tr>\n",
       "    <tr>\n",
       "      <th>4</th>\n",
       "      <td>USW00014734</td>\n",
       "      <td>NEWARK LIBERTY INTERNATIONAL AIRPORT, NJ US</td>\n",
       "      <td>2016-01-05</td>\n",
       "      <td>9.84</td>\n",
       "      <td>NaN</td>\n",
       "      <td>0.0</td>\n",
       "      <td>0.0</td>\n",
       "      <td>0.0</td>\n",
       "      <td>19</td>\n",
       "      <td>31</td>\n",
       "      <td>10</td>\n",
       "      <td>NaN</td>\n",
       "      <td>360</td>\n",
       "      <td>350.0</td>\n",
       "      <td>25.1</td>\n",
       "      <td>31.1</td>\n",
       "    </tr>\n",
       "  </tbody>\n",
       "</table>\n",
       "</div>"
      ],
      "text/plain": [
       "       STATION                                         NAME        DATE  \\\n",
       "0  USW00014734  NEWARK LIBERTY INTERNATIONAL AIRPORT, NJ US  2016-01-01   \n",
       "1  USW00014734  NEWARK LIBERTY INTERNATIONAL AIRPORT, NJ US  2016-01-02   \n",
       "2  USW00014734  NEWARK LIBERTY INTERNATIONAL AIRPORT, NJ US  2016-01-03   \n",
       "3  USW00014734  NEWARK LIBERTY INTERNATIONAL AIRPORT, NJ US  2016-01-04   \n",
       "4  USW00014734  NEWARK LIBERTY INTERNATIONAL AIRPORT, NJ US  2016-01-05   \n",
       "\n",
       "    AWND  PGTM  PRCP  SNOW  SNWD  TAVG  TMAX  TMIN  TSUN  WDF2   WDF5  WSF2  \\\n",
       "0  12.75   NaN   0.0   0.0   0.0    41    43    34   NaN   270  280.0  25.9   \n",
       "1   9.40   NaN   0.0   0.0   0.0    36    42    30   NaN   260  260.0  21.0   \n",
       "2  10.29   NaN   0.0   0.0   0.0    37    47    28   NaN   270  250.0  23.9   \n",
       "3  17.22   NaN   0.0   0.0   0.0    32    35    14   NaN   330  330.0  25.9   \n",
       "4   9.84   NaN   0.0   0.0   0.0    19    31    10   NaN   360  350.0  25.1   \n",
       "\n",
       "   WSF5  \n",
       "0  35.1  \n",
       "1  25.1  \n",
       "2  30.0  \n",
       "3  33.1  \n",
       "4  31.1  "
      ]
     },
     "execution_count": 10,
     "metadata": {},
     "output_type": "execute_result"
    }
   ],
   "source": [
    "weather_data.head()\n"
   ]
  },
  {
   "cell_type": "markdown",
   "id": "95d444be-1cd9-4167-8eae-f5756854deff",
   "metadata": {},
   "source": [
    "Inspect the Data - Citi Bike"
   ]
  },
  {
   "cell_type": "code",
   "execution_count": 22,
   "id": "4fc01114-47b8-40a8-a3b7-b7e891863688",
   "metadata": {},
   "outputs": [
    {
     "data": {
      "text/html": [
       "<div>\n",
       "<style scoped>\n",
       "    .dataframe tbody tr th:only-of-type {\n",
       "        vertical-align: middle;\n",
       "    }\n",
       "\n",
       "    .dataframe tbody tr th {\n",
       "        vertical-align: top;\n",
       "    }\n",
       "\n",
       "    .dataframe thead th {\n",
       "        text-align: right;\n",
       "    }\n",
       "</style>\n",
       "<table border=\"1\" class=\"dataframe\">\n",
       "  <thead>\n",
       "    <tr style=\"text-align: right;\">\n",
       "      <th></th>\n",
       "      <th>Trip Duration</th>\n",
       "      <th>Start Station ID</th>\n",
       "      <th>Start Station Latitude</th>\n",
       "      <th>Start Station Longitude</th>\n",
       "      <th>End Station ID</th>\n",
       "      <th>End Station Latitude</th>\n",
       "      <th>End Station Longitude</th>\n",
       "      <th>Bike ID</th>\n",
       "      <th>Birth Year</th>\n",
       "      <th>Gender</th>\n",
       "    </tr>\n",
       "  </thead>\n",
       "  <tbody>\n",
       "    <tr>\n",
       "      <th>count</th>\n",
       "      <td>8.974800e+04</td>\n",
       "      <td>89748.000000</td>\n",
       "      <td>89748.000000</td>\n",
       "      <td>89748.000000</td>\n",
       "      <td>89748.000000</td>\n",
       "      <td>89748.000000</td>\n",
       "      <td>89748.000000</td>\n",
       "      <td>89748.000000</td>\n",
       "      <td>86124.000000</td>\n",
       "      <td>89748.000000</td>\n",
       "    </tr>\n",
       "    <tr>\n",
       "      <th>mean</th>\n",
       "      <td>8.760840e+02</td>\n",
       "      <td>3199.060035</td>\n",
       "      <td>40.723892</td>\n",
       "      <td>-74.046672</td>\n",
       "      <td>3196.959888</td>\n",
       "      <td>40.723235</td>\n",
       "      <td>-74.045822</td>\n",
       "      <td>24545.918171</td>\n",
       "      <td>1978.285356</td>\n",
       "      <td>1.155903</td>\n",
       "    </tr>\n",
       "    <tr>\n",
       "      <th>std</th>\n",
       "      <td>1.876979e+04</td>\n",
       "      <td>11.157651</td>\n",
       "      <td>0.007835</td>\n",
       "      <td>0.011176</td>\n",
       "      <td>32.762961</td>\n",
       "      <td>0.007744</td>\n",
       "      <td>0.011176</td>\n",
       "      <td>176.003282</td>\n",
       "      <td>9.688038</td>\n",
       "      <td>0.462562</td>\n",
       "    </tr>\n",
       "    <tr>\n",
       "      <th>min</th>\n",
       "      <td>6.100000e+01</td>\n",
       "      <td>3183.000000</td>\n",
       "      <td>40.697030</td>\n",
       "      <td>-74.096937</td>\n",
       "      <td>534.000000</td>\n",
       "      <td>40.697030</td>\n",
       "      <td>-74.096937</td>\n",
       "      <td>17941.000000</td>\n",
       "      <td>1941.000000</td>\n",
       "      <td>0.000000</td>\n",
       "    </tr>\n",
       "    <tr>\n",
       "      <th>25%</th>\n",
       "      <td>2.360000e+02</td>\n",
       "      <td>3186.000000</td>\n",
       "      <td>40.718489</td>\n",
       "      <td>-74.050656</td>\n",
       "      <td>3186.000000</td>\n",
       "      <td>40.718489</td>\n",
       "      <td>-74.050656</td>\n",
       "      <td>24454.000000</td>\n",
       "      <td>1973.000000</td>\n",
       "      <td>1.000000</td>\n",
       "    </tr>\n",
       "    <tr>\n",
       "      <th>50%</th>\n",
       "      <td>3.610000e+02</td>\n",
       "      <td>3199.000000</td>\n",
       "      <td>40.723659</td>\n",
       "      <td>-74.044247</td>\n",
       "      <td>3195.000000</td>\n",
       "      <td>40.721124</td>\n",
       "      <td>-74.043845</td>\n",
       "      <td>24559.000000</td>\n",
       "      <td>1980.000000</td>\n",
       "      <td>1.000000</td>\n",
       "    </tr>\n",
       "    <tr>\n",
       "      <th>75%</th>\n",
       "      <td>5.780000e+02</td>\n",
       "      <td>3209.000000</td>\n",
       "      <td>40.727596</td>\n",
       "      <td>-74.036486</td>\n",
       "      <td>3209.000000</td>\n",
       "      <td>40.727596</td>\n",
       "      <td>-74.036486</td>\n",
       "      <td>24640.000000</td>\n",
       "      <td>1985.000000</td>\n",
       "      <td>1.000000</td>\n",
       "    </tr>\n",
       "    <tr>\n",
       "      <th>max</th>\n",
       "      <td>1.569765e+06</td>\n",
       "      <td>3225.000000</td>\n",
       "      <td>40.752559</td>\n",
       "      <td>-74.032108</td>\n",
       "      <td>3225.000000</td>\n",
       "      <td>40.752559</td>\n",
       "      <td>-74.012723</td>\n",
       "      <td>24724.000000</td>\n",
       "      <td>1998.000000</td>\n",
       "      <td>2.000000</td>\n",
       "    </tr>\n",
       "  </tbody>\n",
       "</table>\n",
       "</div>"
      ],
      "text/plain": [
       "       Trip Duration  Start Station ID  Start Station Latitude  \\\n",
       "count   8.974800e+04      89748.000000            89748.000000   \n",
       "mean    8.760840e+02       3199.060035               40.723892   \n",
       "std     1.876979e+04         11.157651                0.007835   \n",
       "min     6.100000e+01       3183.000000               40.697030   \n",
       "25%     2.360000e+02       3186.000000               40.718489   \n",
       "50%     3.610000e+02       3199.000000               40.723659   \n",
       "75%     5.780000e+02       3209.000000               40.727596   \n",
       "max     1.569765e+06       3225.000000               40.752559   \n",
       "\n",
       "       Start Station Longitude  End Station ID  End Station Latitude  \\\n",
       "count             89748.000000    89748.000000          89748.000000   \n",
       "mean                -74.046672     3196.959888             40.723235   \n",
       "std                   0.011176       32.762961              0.007744   \n",
       "min                 -74.096937      534.000000             40.697030   \n",
       "25%                 -74.050656     3186.000000             40.718489   \n",
       "50%                 -74.044247     3195.000000             40.721124   \n",
       "75%                 -74.036486     3209.000000             40.727596   \n",
       "max                 -74.032108     3225.000000             40.752559   \n",
       "\n",
       "       End Station Longitude       Bike ID    Birth Year        Gender  \n",
       "count           89748.000000  89748.000000  86124.000000  89748.000000  \n",
       "mean              -74.045822  24545.918171   1978.285356      1.155903  \n",
       "std                 0.011176    176.003282      9.688038      0.462562  \n",
       "min               -74.096937  17941.000000   1941.000000      0.000000  \n",
       "25%               -74.050656  24454.000000   1973.000000      1.000000  \n",
       "50%               -74.043845  24559.000000   1980.000000      1.000000  \n",
       "75%               -74.036486  24640.000000   1985.000000      1.000000  \n",
       "max               -74.012723  24724.000000   1998.000000      2.000000  "
      ]
     },
     "execution_count": 22,
     "metadata": {},
     "output_type": "execute_result"
    }
   ],
   "source": [
    "# For Citi Bike data\n",
    "citi_bike_data.describe() #pandas function gives a summary of the numerical columns (e.g., count, mean, min, max, std)\n"
   ]
  },
  {
   "cell_type": "code",
   "execution_count": 23,
   "id": "e5dff01b-459d-4fca-bfb4-4658c053a65c",
   "metadata": {},
   "outputs": [
    {
     "name": "stdout",
     "output_type": "stream",
     "text": [
      "<class 'pandas.core.frame.DataFrame'>\n",
      "RangeIndex: 89748 entries, 0 to 89747\n",
      "Data columns (total 15 columns):\n",
      " #   Column                   Non-Null Count  Dtype  \n",
      "---  ------                   --------------  -----  \n",
      " 0   Trip Duration            89748 non-null  int64  \n",
      " 1   Start Time               89748 non-null  object \n",
      " 2   Stop Time                89748 non-null  object \n",
      " 3   Start Station ID         89748 non-null  int64  \n",
      " 4   Start Station Name       89748 non-null  object \n",
      " 5   Start Station Latitude   89748 non-null  float64\n",
      " 6   Start Station Longitude  89748 non-null  float64\n",
      " 7   End Station ID           89748 non-null  int64  \n",
      " 8   End Station Name         89748 non-null  object \n",
      " 9   End Station Latitude     89748 non-null  float64\n",
      " 10  End Station Longitude    89748 non-null  float64\n",
      " 11  Bike ID                  89748 non-null  int64  \n",
      " 12  User Type                89748 non-null  object \n",
      " 13  Birth Year               86124 non-null  float64\n",
      " 14  Gender                   89748 non-null  int64  \n",
      "dtypes: float64(5), int64(5), object(5)\n",
      "memory usage: 10.3+ MB\n"
     ]
    }
   ],
   "source": [
    "citi_bike_data.info()   #pandas function shows the data types of each column and how many non-null values are present.\n"
   ]
  },
  {
   "cell_type": "code",
   "execution_count": 24,
   "id": "347e0d36-32aa-4b08-9b58-af9156c43e10",
   "metadata": {},
   "outputs": [
    {
     "data": {
      "text/plain": [
       "Trip Duration                 0\n",
       "Start Time                    0\n",
       "Stop Time                     0\n",
       "Start Station ID              0\n",
       "Start Station Name            0\n",
       "Start Station Latitude        0\n",
       "Start Station Longitude       0\n",
       "End Station ID                0\n",
       "End Station Name              0\n",
       "End Station Latitude          0\n",
       "End Station Longitude         0\n",
       "Bike ID                       0\n",
       "User Type                     0\n",
       "Birth Year                 3624\n",
       "Gender                        0\n",
       "dtype: int64"
      ]
     },
     "execution_count": 24,
     "metadata": {},
     "output_type": "execute_result"
    }
   ],
   "source": [
    "citi_bike_data.isna().sum()   #pandas funtion checks how many missing values there are for each column.\n",
    "# showing 3624 missing values for Birth Year column"
   ]
  },
  {
   "cell_type": "code",
   "execution_count": 30,
   "id": "5b898e20-d27c-4fa8-a249-2bf782f3dbf2",
   "metadata": {},
   "outputs": [
    {
     "data": {
      "text/plain": [
       "Trip Duration              89748\n",
       "Start Time                 89748\n",
       "Stop Time                  89748\n",
       "Start Station ID           89748\n",
       "Start Station Name         89748\n",
       "Start Station Latitude     89748\n",
       "Start Station Longitude    89748\n",
       "End Station ID             89748\n",
       "End Station Name           89748\n",
       "End Station Latitude       89748\n",
       "End Station Longitude      89748\n",
       "Bike ID                    89748\n",
       "User Type                  89748\n",
       "Birth Year                 86124\n",
       "Gender                     89748\n",
       "dtype: int64"
      ]
     },
     "execution_count": 30,
     "metadata": {},
     "output_type": "execute_result"
    }
   ],
   "source": [
    "citi_bike_data.notna().sum()  # Non-null values in Citi Bike data\n",
    "? May have to fill that information with the average birth year...."
   ]
  },
  {
   "cell_type": "code",
   "execution_count": 44,
   "id": "eb828103-31a1-4d9a-976f-57ae5975dd9f",
   "metadata": {},
   "outputs": [
    {
     "name": "stdout",
     "output_type": "stream",
     "text": [
      "Citi Bike Data - Missing Values\n",
      "Trip Duration                 0\n",
      "Start Time                    0\n",
      "Stop Time                     0\n",
      "Start Station ID              0\n",
      "Start Station Name            0\n",
      "Start Station Latitude        0\n",
      "Start Station Longitude       0\n",
      "End Station ID                0\n",
      "End Station Name              0\n",
      "End Station Latitude          0\n",
      "End Station Longitude         0\n",
      "Bike ID                       0\n",
      "User Type                     0\n",
      "Birth Year                 3624\n",
      "Gender                        0\n",
      "dtype: int64\n"
     ]
    }
   ],
   "source": [
    "# For Citi Bike Data\n",
    "print(\"Citi Bike Data - Missing Values\")\n",
    "print(citi_bike_data.isna().sum())  # Missing values\n",
    "\n",
    "# showing 3624 missing values for Birth Year column"
   ]
  },
  {
   "cell_type": "code",
   "execution_count": 43,
   "id": "3dd8a04c-56ad-49a4-a3cd-189a947c81a0",
   "metadata": {},
   "outputs": [
    {
     "name": "stdout",
     "output_type": "stream",
     "text": [
      "Citi Bike Data - Non-Missing Values\n",
      "Trip Duration              89748\n",
      "Start Time                 89748\n",
      "Stop Time                  89748\n",
      "Start Station ID           89748\n",
      "Start Station Name         89748\n",
      "Start Station Latitude     89748\n",
      "Start Station Longitude    89748\n",
      "End Station ID             89748\n",
      "End Station Name           89748\n",
      "End Station Latitude       89748\n",
      "End Station Longitude      89748\n",
      "Bike ID                    89748\n",
      "User Type                  89748\n",
      "Birth Year                 86124\n",
      "Gender                     89748\n",
      "dtype: int64\n"
     ]
    }
   ],
   "source": [
    "\n",
    "print(\"Citi Bike Data - Non-Missing Values\")\n",
    "print(citi_bike_data.notna().sum())  # Non-missing values"
   ]
  },
  {
   "cell_type": "markdown",
   "id": "483e2056-b1d7-4285-bf55-cf96078994e4",
   "metadata": {},
   "source": [
    "Inspect Data - Weather Data"
   ]
  },
  {
   "cell_type": "code",
   "execution_count": 26,
   "id": "8e291037-b3c4-4537-964a-800287f026c8",
   "metadata": {},
   "outputs": [
    {
     "data": {
      "text/html": [
       "<div>\n",
       "<style scoped>\n",
       "    .dataframe tbody tr th:only-of-type {\n",
       "        vertical-align: middle;\n",
       "    }\n",
       "\n",
       "    .dataframe tbody tr th {\n",
       "        vertical-align: top;\n",
       "    }\n",
       "\n",
       "    .dataframe thead th {\n",
       "        text-align: right;\n",
       "    }\n",
       "</style>\n",
       "<table border=\"1\" class=\"dataframe\">\n",
       "  <thead>\n",
       "    <tr style=\"text-align: right;\">\n",
       "      <th></th>\n",
       "      <th>AWND</th>\n",
       "      <th>PGTM</th>\n",
       "      <th>PRCP</th>\n",
       "      <th>SNOW</th>\n",
       "      <th>SNWD</th>\n",
       "      <th>TAVG</th>\n",
       "      <th>TMAX</th>\n",
       "      <th>TMIN</th>\n",
       "      <th>TSUN</th>\n",
       "      <th>WDF2</th>\n",
       "      <th>WDF5</th>\n",
       "      <th>WSF2</th>\n",
       "      <th>WSF5</th>\n",
       "    </tr>\n",
       "  </thead>\n",
       "  <tbody>\n",
       "    <tr>\n",
       "      <th>count</th>\n",
       "      <td>366.000000</td>\n",
       "      <td>0.0</td>\n",
       "      <td>366.000000</td>\n",
       "      <td>366.000000</td>\n",
       "      <td>366.000000</td>\n",
       "      <td>366.000000</td>\n",
       "      <td>366.000000</td>\n",
       "      <td>366.000000</td>\n",
       "      <td>0.0</td>\n",
       "      <td>366.000000</td>\n",
       "      <td>364.000000</td>\n",
       "      <td>366.000000</td>\n",
       "      <td>364.000000</td>\n",
       "    </tr>\n",
       "    <tr>\n",
       "      <th>mean</th>\n",
       "      <td>9.429973</td>\n",
       "      <td>NaN</td>\n",
       "      <td>0.104945</td>\n",
       "      <td>0.098087</td>\n",
       "      <td>0.342623</td>\n",
       "      <td>57.196721</td>\n",
       "      <td>65.991803</td>\n",
       "      <td>48.459016</td>\n",
       "      <td>NaN</td>\n",
       "      <td>217.841530</td>\n",
       "      <td>228.269231</td>\n",
       "      <td>20.484426</td>\n",
       "      <td>26.801648</td>\n",
       "    </tr>\n",
       "    <tr>\n",
       "      <th>std</th>\n",
       "      <td>3.748174</td>\n",
       "      <td>NaN</td>\n",
       "      <td>0.307496</td>\n",
       "      <td>1.276498</td>\n",
       "      <td>2.078510</td>\n",
       "      <td>17.466981</td>\n",
       "      <td>18.606301</td>\n",
       "      <td>17.135790</td>\n",
       "      <td>NaN</td>\n",
       "      <td>102.548282</td>\n",
       "      <td>97.415777</td>\n",
       "      <td>6.848390</td>\n",
       "      <td>8.882610</td>\n",
       "    </tr>\n",
       "    <tr>\n",
       "      <th>min</th>\n",
       "      <td>2.460000</td>\n",
       "      <td>NaN</td>\n",
       "      <td>0.000000</td>\n",
       "      <td>0.000000</td>\n",
       "      <td>0.000000</td>\n",
       "      <td>8.000000</td>\n",
       "      <td>18.000000</td>\n",
       "      <td>0.000000</td>\n",
       "      <td>NaN</td>\n",
       "      <td>10.000000</td>\n",
       "      <td>10.000000</td>\n",
       "      <td>6.900000</td>\n",
       "      <td>10.100000</td>\n",
       "    </tr>\n",
       "    <tr>\n",
       "      <th>25%</th>\n",
       "      <td>6.765000</td>\n",
       "      <td>NaN</td>\n",
       "      <td>0.000000</td>\n",
       "      <td>0.000000</td>\n",
       "      <td>0.000000</td>\n",
       "      <td>43.000000</td>\n",
       "      <td>51.250000</td>\n",
       "      <td>35.000000</td>\n",
       "      <td>NaN</td>\n",
       "      <td>150.000000</td>\n",
       "      <td>150.000000</td>\n",
       "      <td>15.000000</td>\n",
       "      <td>19.900000</td>\n",
       "    </tr>\n",
       "    <tr>\n",
       "      <th>50%</th>\n",
       "      <td>8.720000</td>\n",
       "      <td>NaN</td>\n",
       "      <td>0.000000</td>\n",
       "      <td>0.000000</td>\n",
       "      <td>0.000000</td>\n",
       "      <td>56.000000</td>\n",
       "      <td>66.000000</td>\n",
       "      <td>47.000000</td>\n",
       "      <td>NaN</td>\n",
       "      <td>240.000000</td>\n",
       "      <td>260.000000</td>\n",
       "      <td>19.900000</td>\n",
       "      <td>25.100000</td>\n",
       "    </tr>\n",
       "    <tr>\n",
       "      <th>75%</th>\n",
       "      <td>11.410000</td>\n",
       "      <td>NaN</td>\n",
       "      <td>0.030000</td>\n",
       "      <td>0.000000</td>\n",
       "      <td>0.000000</td>\n",
       "      <td>74.000000</td>\n",
       "      <td>83.000000</td>\n",
       "      <td>64.000000</td>\n",
       "      <td>NaN</td>\n",
       "      <td>300.000000</td>\n",
       "      <td>300.000000</td>\n",
       "      <td>23.900000</td>\n",
       "      <td>31.100000</td>\n",
       "    </tr>\n",
       "    <tr>\n",
       "      <th>max</th>\n",
       "      <td>22.820000</td>\n",
       "      <td>NaN</td>\n",
       "      <td>2.790000</td>\n",
       "      <td>24.000000</td>\n",
       "      <td>20.100000</td>\n",
       "      <td>89.000000</td>\n",
       "      <td>99.000000</td>\n",
       "      <td>80.000000</td>\n",
       "      <td>NaN</td>\n",
       "      <td>360.000000</td>\n",
       "      <td>360.000000</td>\n",
       "      <td>48.100000</td>\n",
       "      <td>66.000000</td>\n",
       "    </tr>\n",
       "  </tbody>\n",
       "</table>\n",
       "</div>"
      ],
      "text/plain": [
       "             AWND  PGTM        PRCP        SNOW        SNWD        TAVG  \\\n",
       "count  366.000000   0.0  366.000000  366.000000  366.000000  366.000000   \n",
       "mean     9.429973   NaN    0.104945    0.098087    0.342623   57.196721   \n",
       "std      3.748174   NaN    0.307496    1.276498    2.078510   17.466981   \n",
       "min      2.460000   NaN    0.000000    0.000000    0.000000    8.000000   \n",
       "25%      6.765000   NaN    0.000000    0.000000    0.000000   43.000000   \n",
       "50%      8.720000   NaN    0.000000    0.000000    0.000000   56.000000   \n",
       "75%     11.410000   NaN    0.030000    0.000000    0.000000   74.000000   \n",
       "max     22.820000   NaN    2.790000   24.000000   20.100000   89.000000   \n",
       "\n",
       "             TMAX        TMIN  TSUN        WDF2        WDF5        WSF2  \\\n",
       "count  366.000000  366.000000   0.0  366.000000  364.000000  366.000000   \n",
       "mean    65.991803   48.459016   NaN  217.841530  228.269231   20.484426   \n",
       "std     18.606301   17.135790   NaN  102.548282   97.415777    6.848390   \n",
       "min     18.000000    0.000000   NaN   10.000000   10.000000    6.900000   \n",
       "25%     51.250000   35.000000   NaN  150.000000  150.000000   15.000000   \n",
       "50%     66.000000   47.000000   NaN  240.000000  260.000000   19.900000   \n",
       "75%     83.000000   64.000000   NaN  300.000000  300.000000   23.900000   \n",
       "max     99.000000   80.000000   NaN  360.000000  360.000000   48.100000   \n",
       "\n",
       "             WSF5  \n",
       "count  364.000000  \n",
       "mean    26.801648  \n",
       "std      8.882610  \n",
       "min     10.100000  \n",
       "25%     19.900000  \n",
       "50%     25.100000  \n",
       "75%     31.100000  \n",
       "max     66.000000  "
      ]
     },
     "execution_count": 26,
     "metadata": {},
     "output_type": "execute_result"
    }
   ],
   "source": [
    "# For Weather data\n",
    "weather_data.describe()\n"
   ]
  },
  {
   "cell_type": "code",
   "execution_count": 27,
   "id": "139f42e3-9914-4296-9086-3beee050dc9c",
   "metadata": {},
   "outputs": [
    {
     "name": "stdout",
     "output_type": "stream",
     "text": [
      "<class 'pandas.core.frame.DataFrame'>\n",
      "RangeIndex: 366 entries, 0 to 365\n",
      "Data columns (total 16 columns):\n",
      " #   Column   Non-Null Count  Dtype  \n",
      "---  ------   --------------  -----  \n",
      " 0   STATION  366 non-null    object \n",
      " 1   NAME     366 non-null    object \n",
      " 2   DATE     366 non-null    object \n",
      " 3   AWND     366 non-null    float64\n",
      " 4   PGTM     0 non-null      float64\n",
      " 5   PRCP     366 non-null    float64\n",
      " 6   SNOW     366 non-null    float64\n",
      " 7   SNWD     366 non-null    float64\n",
      " 8   TAVG     366 non-null    int64  \n",
      " 9   TMAX     366 non-null    int64  \n",
      " 10  TMIN     366 non-null    int64  \n",
      " 11  TSUN     0 non-null      float64\n",
      " 12  WDF2     366 non-null    int64  \n",
      " 13  WDF5     364 non-null    float64\n",
      " 14  WSF2     366 non-null    float64\n",
      " 15  WSF5     364 non-null    float64\n",
      "dtypes: float64(9), int64(4), object(3)\n",
      "memory usage: 45.9+ KB\n"
     ]
    }
   ],
   "source": [
    "weather_data.info()\n"
   ]
  },
  {
   "cell_type": "markdown",
   "id": "d04799b6-92e5-4a10-8948-d7113bf79ed2",
   "metadata": {},
   "source": [
    "\n",
    "\n",
    "Comparing the missing vs non-missing values via weather data\n",
    "\n"
   ]
  },
  {
   "cell_type": "code",
   "execution_count": 32,
   "id": "20157cb2-23c0-437d-ad64-fc0b23f241eb",
   "metadata": {},
   "outputs": [
    {
     "name": "stdout",
     "output_type": "stream",
     "text": [
      "Weather Data - Missing Values\n",
      "STATION      0\n",
      "NAME         0\n",
      "DATE         0\n",
      "AWND         0\n",
      "PGTM       366\n",
      "PRCP         0\n",
      "SNOW         0\n",
      "SNWD         0\n",
      "TAVG         0\n",
      "TMAX         0\n",
      "TMIN         0\n",
      "TSUN       366\n",
      "WDF2         0\n",
      "WDF5         2\n",
      "WSF2         0\n",
      "WSF5         2\n",
      "dtype: int64\n"
     ]
    }
   ],
   "source": [
    "print(\"Weather Data - Missing Values\")\n",
    "print(weather_data.isna().sum())  # Missing values\n",
    "\n",
    "# We see that columns: WSF5 is missing 2 values, WDF5 is missing 2 values, TSUN is missing 366 values, and PGTM is missing 366 values\n"
   ]
  },
  {
   "cell_type": "code",
   "execution_count": 33,
   "id": "4d30d6a7-7e8b-4f41-a4c3-a8f11ca8b2de",
   "metadata": {},
   "outputs": [
    {
     "name": "stdout",
     "output_type": "stream",
     "text": [
      "Weather Data - Non-Missing Values\n",
      "STATION    366\n",
      "NAME       366\n",
      "DATE       366\n",
      "AWND       366\n",
      "PGTM         0\n",
      "PRCP       366\n",
      "SNOW       366\n",
      "SNWD       366\n",
      "TAVG       366\n",
      "TMAX       366\n",
      "TMIN       366\n",
      "TSUN         0\n",
      "WDF2       366\n",
      "WDF5       364\n",
      "WSF2       366\n",
      "WSF5       364\n",
      "dtype: int64\n"
     ]
    }
   ],
   "source": [
    "print(\"Weather Data - Non-Missing Values\")\n",
    "print(weather_data.notna().sum())  # Non-missing values"
   ]
  },
  {
   "cell_type": "markdown",
   "id": "5dd6a558-0e0d-4e1a-97ea-694a6fc4525c",
   "metadata": {},
   "source": [
    "Visualizing the comparison ofd null vs non null values. (This is an optional step just to see how the data looks"
   ]
  },
  {
   "cell_type": "code",
   "execution_count": 39,
   "id": "d3d491f9-1498-4461-a365-65ac119c3a13",
   "metadata": {},
   "outputs": [
    {
     "data": {
      "image/png": "[encoded data removed]",
      "text/plain": [
       "<Figure size 1200x600 with 2 Axes>"
      ]
     },
     "metadata": {},
     "output_type": "display_data"
    }
   ],
   "source": [
    "import matplotlib.pyplot as plt\n",
    "\n",
    "# Plot for Citi Bike Data\n",
    "citi_bike_nulls = citi_bike_data.isna().sum()\n",
    "citi_bike_non_nulls = citi_bike_data.notna().sum()\n",
    "\n",
    "# Plot for Weather Data\n",
    "weather_nulls = weather_data.isna().sum()\n",
    "weather_non_nulls = weather_data.notna().sum()\n",
    "\n",
    "# Create a figure and axis for plotting\n",
    "fig, axes = plt.subplots(1, 2, figsize=(12, 6))\n",
    "\n",
    "# Citi Bike Data bar plot\n",
    "axes[0].bar(citi_bike_nulls.index, citi_bike_nulls, color='orange', label='Null Values')\n",
    "axes[0].bar(citi_bike_non_nulls.index, citi_bike_non_nulls, color='green', label='Non-Null Values')\n",
    "axes[0].set_title('Citi Bike Data: Null vs Non-Null')\n",
    "axes[0].set_xlabel('Columns')\n",
    "axes[0].set_ylabel('Count')\n",
    "axes[0].legend()\n",
    "\n",
    "# Weather Data bar plot\n",
    "axes[1].bar(weather_nulls.index, weather_nulls, color='orange', label='Null Values')\n",
    "axes[1].bar(weather_non_nulls.index, weather_non_nulls, color='green', label='Non-Null Values')\n",
    "axes[1].set_title('Weather Data: Null vs Non-Null')\n",
    "axes[1].set_xlabel('Columns')\n",
    "axes[1].set_ylabel('Count')\n",
    "axes[1].legend()\n",
    "\n",
    "#plt.tight_layout()\n",
    "plt.show()\n"
   ]
  },
  {
   "cell_type": "markdown",
   "id": "4af42cc3-80b4-4b46-a2e9-fb2eeee61857",
   "metadata": {},
   "source": [
    "Addressing The Missing Data - Weather Data"
   ]
  },
  {
   "cell_type": "markdown",
   "id": "6a5dccf2-7b96-4de7-8d4d-1e5ccbd8b668",
   "metadata": {},
   "source": [
    "    Removing Missing Data: If rows or columns have too many missing values (e.g., more than 50% of values), it might make sense to drop them."
   ]
  },
  {
   "cell_type": "code",
   "execution_count": 51,
   "id": "c81a2508-9375-4454-8fff-77acc78faaaf",
   "metadata": {},
   "outputs": [
    {
     "ename": "KeyError",
     "evalue": "['PGTM']",
     "output_type": "error",
     "traceback": [
      "\u001b[1;31m---------------------------------------------------------------------------\u001b[0m",
      "\u001b[1;31mKeyError\u001b[0m                                  Traceback (most recent call last)",
      "\u001b[1;32m~\\AppData\\Local\\Temp\\ipykernel_34128\\252488716.py\u001b[0m in \u001b[0;36m?\u001b[1;34m()\u001b[0m\n\u001b[0;32m      1\u001b[0m \u001b[0mweather_data\u001b[0m\u001b[1;33m.\u001b[0m\u001b[0mcolumns\u001b[0m \u001b[1;33m=\u001b[0m \u001b[0mweather_data\u001b[0m\u001b[1;33m.\u001b[0m\u001b[0mcolumns\u001b[0m\u001b[1;33m.\u001b[0m\u001b[0mstr\u001b[0m\u001b[1;33m.\u001b[0m\u001b[0mstrip\u001b[0m\u001b[1;33m(\u001b[0m\u001b[1;33m)\u001b[0m  \u001b[1;31m# Remove extra spaces\u001b[0m\u001b[1;33m\u001b[0m\u001b[1;33m\u001b[0m\u001b[0m\n\u001b[0;32m      2\u001b[0m \u001b[1;33m\u001b[0m\u001b[0m\n\u001b[0;32m      3\u001b[0m \u001b[1;33m\u001b[0m\u001b[0m\n\u001b[0;32m      4\u001b[0m \u001b[0mweather_data\u001b[0m\u001b[1;33m.\u001b[0m\u001b[0mdropna\u001b[0m\u001b[1;33m(\u001b[0m\u001b[0mthresh\u001b[0m\u001b[1;33m=\u001b[0m\u001b[0mint\u001b[0m\u001b[1;33m(\u001b[0m\u001b[1;36m0.5\u001b[0m \u001b[1;33m*\u001b[0m \u001b[0mlen\u001b[0m\u001b[1;33m(\u001b[0m\u001b[0mweather_data\u001b[0m\u001b[1;33m)\u001b[0m\u001b[1;33m)\u001b[0m\u001b[1;33m,\u001b[0m \u001b[0maxis\u001b[0m\u001b[1;33m=\u001b[0m\u001b[1;36m1\u001b[0m\u001b[1;33m,\u001b[0m \u001b[0minplace\u001b[0m\u001b[1;33m=\u001b[0m\u001b[1;32mTrue\u001b[0m\u001b[1;33m)\u001b[0m  \u001b[1;31m# Drop columns with >50% missing\u001b[0m\u001b[1;33m\u001b[0m\u001b[1;33m\u001b[0m\u001b[0m\n\u001b[1;32m----> 5\u001b[1;33m \u001b[0mweather_data\u001b[0m\u001b[1;33m.\u001b[0m\u001b[0mdropna\u001b[0m\u001b[1;33m(\u001b[0m\u001b[0msubset\u001b[0m\u001b[1;33m=\u001b[0m\u001b[1;33m[\u001b[0m\u001b[1;34m'PGTM'\u001b[0m\u001b[1;33m]\u001b[0m\u001b[1;33m,\u001b[0m \u001b[0minplace\u001b[0m\u001b[1;33m=\u001b[0m\u001b[1;32mTrue\u001b[0m\u001b[1;33m)\u001b[0m  \u001b[1;31m# Drop rows with missing values in specific column\u001b[0m\u001b[1;33m\u001b[0m\u001b[1;33m\u001b[0m\u001b[0m\n\u001b[0m\u001b[0;32m      6\u001b[0m \u001b[0mweather_data\u001b[0m\u001b[1;33m.\u001b[0m\u001b[0mdropna\u001b[0m\u001b[1;33m(\u001b[0m\u001b[0msubset\u001b[0m\u001b[1;33m=\u001b[0m\u001b[1;33m[\u001b[0m\u001b[1;34m'TSUN'\u001b[0m\u001b[1;33m]\u001b[0m\u001b[1;33m,\u001b[0m \u001b[0minplace\u001b[0m\u001b[1;33m=\u001b[0m\u001b[1;32mTrue\u001b[0m\u001b[1;33m)\u001b[0m\u001b[1;33m\u001b[0m\u001b[1;33m\u001b[0m\u001b[0m\n",
      "\u001b[1;32m~\\AppData\\Local\\Programs\\Python\\Python313\\Lib\\site-packages\\pandas\\core\\frame.py\u001b[0m in \u001b[0;36m?\u001b[1;34m(self, axis, how, thresh, subset, inplace, ignore_index)\u001b[0m\n\u001b[0;32m   6666\u001b[0m             \u001b[0max\u001b[0m \u001b[1;33m=\u001b[0m \u001b[0mself\u001b[0m\u001b[1;33m.\u001b[0m\u001b[0m_get_axis\u001b[0m\u001b[1;33m(\u001b[0m\u001b[0magg_axis\u001b[0m\u001b[1;33m)\u001b[0m\u001b[1;33m\u001b[0m\u001b[1;33m\u001b[0m\u001b[0m\n\u001b[0;32m   6667\u001b[0m             \u001b[0mindices\u001b[0m \u001b[1;33m=\u001b[0m \u001b[0max\u001b[0m\u001b[1;33m.\u001b[0m\u001b[0mget_indexer_for\u001b[0m\u001b[1;33m(\u001b[0m\u001b[0msubset\u001b[0m\u001b[1;33m)\u001b[0m\u001b[1;33m\u001b[0m\u001b[1;33m\u001b[0m\u001b[0m\n\u001b[0;32m   6668\u001b[0m             \u001b[0mcheck\u001b[0m \u001b[1;33m=\u001b[0m \u001b[0mindices\u001b[0m \u001b[1;33m==\u001b[0m \u001b[1;33m-\u001b[0m\u001b[1;36m1\u001b[0m\u001b[1;33m\u001b[0m\u001b[1;33m\u001b[0m\u001b[0m\n\u001b[0;32m   6669\u001b[0m             \u001b[1;32mif\u001b[0m \u001b[0mcheck\u001b[0m\u001b[1;33m.\u001b[0m\u001b[0many\u001b[0m\u001b[1;33m(\u001b[0m\u001b[1;33m)\u001b[0m\u001b[1;33m:\u001b[0m\u001b[1;33m\u001b[0m\u001b[1;33m\u001b[0m\u001b[0m\n\u001b[1;32m-> 6670\u001b[1;33m                 \u001b[1;32mraise\u001b[0m \u001b[0mKeyError\u001b[0m\u001b[1;33m(\u001b[0m\u001b[0mnp\u001b[0m\u001b[1;33m.\u001b[0m\u001b[0marray\u001b[0m\u001b[1;33m(\u001b[0m\u001b[0msubset\u001b[0m\u001b[1;33m)\u001b[0m\u001b[1;33m[\u001b[0m\u001b[0mcheck\u001b[0m\u001b[1;33m]\u001b[0m\u001b[1;33m.\u001b[0m\u001b[0mtolist\u001b[0m\u001b[1;33m(\u001b[0m\u001b[1;33m)\u001b[0m\u001b[1;33m)\u001b[0m\u001b[1;33m\u001b[0m\u001b[1;33m\u001b[0m\u001b[0m\n\u001b[0m\u001b[0;32m   6671\u001b[0m             \u001b[0magg_obj\u001b[0m \u001b[1;33m=\u001b[0m \u001b[0mself\u001b[0m\u001b[1;33m.\u001b[0m\u001b[0mtake\u001b[0m\u001b[1;33m(\u001b[0m\u001b[0mindices\u001b[0m\u001b[1;33m,\u001b[0m \u001b[0maxis\u001b[0m\u001b[1;33m=\u001b[0m\u001b[0magg_axis\u001b[0m\u001b[1;33m)\u001b[0m\u001b[1;33m\u001b[0m\u001b[1;33m\u001b[0m\u001b[0m\n\u001b[0;32m   6672\u001b[0m \u001b[1;33m\u001b[0m\u001b[0m\n\u001b[0;32m   6673\u001b[0m         \u001b[1;32mif\u001b[0m \u001b[0mthresh\u001b[0m \u001b[1;32mis\u001b[0m \u001b[1;32mnot\u001b[0m \u001b[0mlib\u001b[0m\u001b[1;33m.\u001b[0m\u001b[0mno_default\u001b[0m\u001b[1;33m:\u001b[0m\u001b[1;33m\u001b[0m\u001b[1;33m\u001b[0m\u001b[0m\n",
      "\u001b[1;31mKeyError\u001b[0m: ['PGTM']"
     ]
    }
   ],
   "source": [
    "weather_data.columns = weather_data.columns.str.strip()  # Remove extra spaces in columns..or column name\n",
    "\n",
    "\n",
    "weather_data.dropna(thresh=int(0.5 * len(weather_data)), axis=1, inplace=True)  # Drop columns with >50% missing\n",
    "weather_data.dropna(subset=['PGTM'], inplace=True)  # Drop rows with missing values in specific column\n",
    "weather_data.dropna(subset=['TSUN'], inplace=True)  "
   ]
  },
  {
   "cell_type": "code",
   "execution_count": 52,
   "id": "597624f4-acd3-4a61-939d-ce713724ba41",
   "metadata": {},
   "outputs": [
    {
     "name": "stdout",
     "output_type": "stream",
     "text": [
      "Index(['STATION', 'NAME', 'DATE', 'AWND', 'PRCP', 'SNOW', 'SNWD', 'TAVG',\n",
      "       'TMAX', 'TMIN', 'WDF2', 'WDF5', 'WSF2', 'WSF5'],\n",
      "      dtype='object')\n"
     ]
    }
   ],
   "source": [
    "print(weather_data.columns) # checking columns after\n",
    "#The reason I got the eeerror was because the first line alreday droped the columns that have a 50+% of mmissing data"
   ]
  },
  {
   "cell_type": "markdown",
   "id": "5bed3a45-9953-4441-9ad8-b2d2bbd8a95f",
   "metadata": {},
   "source": [
    "    Filling Missing Data: You might choose to fill missing values with the mean, median, mode, or use forward/backward filling, depending on the data type and context.\n",
    "\n"
   ]
  },
  {
   "cell_type": "code",
   "execution_count": 54,
   "id": "a932c973-39e3-4b5d-8259-622862280ae3",
   "metadata": {},
   "outputs": [],
   "source": [
    "weather_data['WDF5'] = weather_data['WDF5'].fillna(weather_data['WDF5'].mean())\n",
    "weather_data['WSF5'] = weather_data['WSF5'].fillna(weather_data['WSF5'].mean())\n"
   ]
  },
  {
   "cell_type": "code",
   "execution_count": 56,
   "id": "34154805-b4fc-43c8-b195-1dc702cd6a2c",
   "metadata": {},
   "outputs": [
    {
     "name": "stdout",
     "output_type": "stream",
     "text": [
      "Weather Data - Missing Values\n",
      "STATION    0\n",
      "NAME       0\n",
      "DATE       0\n",
      "AWND       0\n",
      "PRCP       0\n",
      "SNOW       0\n",
      "SNWD       0\n",
      "TAVG       0\n",
      "TMAX       0\n",
      "TMIN       0\n",
      "WDF2       0\n",
      "WDF5       0\n",
      "WSF2       0\n",
      "WSF5       0\n",
      "dtype: int64\n"
     ]
    }
   ],
   "source": [
    "print(\"Weather Data - Missing Values\")\n",
    "print(weather_data.isna().sum())  # Missing values\n",
    "\n",
    "# We see that columns: WSF5 is missing 2 values, WDF5 is missing 2 values, TSUN is missing 366 values, and PGTM is missing 366 values"
   ]
  },
  {
   "cell_type": "code",
   "execution_count": 58,
   "id": "d70fa4f6-5cd1-4a93-b40a-aebc78de5456",
   "metadata": {},
   "outputs": [
    {
     "name": "stdout",
     "output_type": "stream",
     "text": [
      "STATION     object\n",
      "NAME        object\n",
      "DATE        object\n",
      "AWND       float64\n",
      "PRCP       float64\n",
      "SNOW       float64\n",
      "SNWD       float64\n",
      "TAVG         int64\n",
      "TMAX         int64\n",
      "TMIN         int64\n",
      "WDF2         int64\n",
      "WDF5       float64\n",
      "WSF2       float64\n",
      "WSF5       float64\n",
      "dtype: object\n"
     ]
    }
   ],
   "source": [
    "print(weather_data.dtypes)\n"
   ]
  },
  {
   "cell_type": "markdown",
   "id": "622bbbb1-ea16-4168-8081-afca87cf8de7",
   "metadata": {},
   "source": [
    "Correcting the Data Types - Weather Data"
   ]
  },
  {
   "cell_type": "code",
   "execution_count": 61,
   "id": "c00ae566-2414-43a4-b869-33a42787480b",
   "metadata": {},
   "outputs": [
    {
     "name": "stdout",
     "output_type": "stream",
     "text": [
      "STATION     object\n",
      "NAME        object\n",
      "DATE        object\n",
      "AWND       float64\n",
      "PRCP       float64\n",
      "SNOW       float64\n",
      "SNWD       float64\n",
      "TAVG         int64\n",
      "TMAX         int64\n",
      "TMIN         int64\n",
      "WDF2         int64\n",
      "WDF5         int64\n",
      "WSF2       float64\n",
      "WSF5       float64\n",
      "dtype: object\n"
     ]
    }
   ],
   "source": [
    "#based off formating of weather table in Excel the WDF5 coumn should be covberted to int64\n",
    "\n",
    "weather_data['WDF5'] = weather_data['WDF5'].astype('int64')\n",
    "print(weather_data.dtypes)\n"
   ]
  },
  {
   "cell_type": "code",
   "execution_count": 65,
   "id": "d75d5140-2925-4896-9ca1-8d99d6eb9373",
   "metadata": {},
   "outputs": [
    {
     "name": "stdout",
     "output_type": "stream",
     "text": [
      "datetime64[ns]\n",
      "STATION            object\n",
      "NAME               object\n",
      "DATE       datetime64[ns]\n",
      "AWND              float64\n",
      "PRCP              float64\n",
      "SNOW              float64\n",
      "SNWD              float64\n",
      "TAVG                int64\n",
      "TMAX                int64\n",
      "TMIN                int64\n",
      "WDF2                int64\n",
      "WDF5                int64\n",
      "WSF2              float64\n",
      "WSF5              float64\n",
      "dtype: object\n"
     ]
    }
   ],
   "source": [
    "#DATE data type needs to be changed as well \n",
    "\n",
    "weather_data['DATE'] = pd.to_datetime(weather_data['DATE'])\n",
    "    #pd.to_datetime(): This function is designed to convert date-like strings to datetime64. \n",
    "    #It will automatically infer the date format if it's a common one (like \"MM/DD/YYYY\").\n",
    "\n",
    "print(weather_data['DATE'].dtype)\n",
    "\n",
    "print(weather_data.dtypes)\n"
   ]
  },
  {
   "cell_type": "code",
   "execution_count": 77,
   "id": "b8e5114e-ecc1-436e-9f52-11aaaa20eafe",
   "metadata": {},
   "outputs": [
    {
     "name": "stdout",
     "output_type": "stream",
     "text": [
      "NAME column's data type is: string\n",
      "STATION    string[python]\n",
      "NAME       string[python]\n",
      "DATE       datetime64[ns]\n",
      "AWND              float64\n",
      "PRCP              float64\n",
      "SNOW              float64\n",
      "SNWD              float64\n",
      "TAVG                int64\n",
      "TMAX                int64\n",
      "TMIN                int64\n",
      "WDF2                int64\n",
      "WDF5                int64\n",
      "WSF2              float64\n",
      "WSF5              float64\n",
      "dtype: object\n"
     ]
    }
   ],
   "source": [
    "# Convert the 'NAME' column to the 'string' data type\n",
    "weather_data['NAME'] = weather_data['NAME'].astype('string')\n",
    "\n",
    "# Verify the conversion\n",
    "print(\"NAME column's data type is:\",weather_data['NAME'].dtype)  # Should print: string\n",
    "\n",
    "# Convert the 'STATION' column to the 'string' data type\n",
    "weather_data['STATION'] = weather_data['STATION'].astype('string')\n",
    "\n",
    "print(weather_data.dtypes)\n",
    "\n"
   ]
  },
  {
   "cell_type": "markdown",
   "id": "7dd67212-77f8-45d7-8ecd-91df49418a1c",
   "metadata": {},
   "source": [
    "Addressing The Missing Data - Citi Bike Data"
   ]
  },
  {
   "cell_type": "code",
   "execution_count": 66,
   "id": "0ea759a4-5e9f-47a1-9aaf-686b841da06f",
   "metadata": {},
   "outputs": [
    {
     "name": "stdout",
     "output_type": "stream",
     "text": [
      "<class 'pandas.core.frame.DataFrame'>\n",
      "RangeIndex: 89748 entries, 0 to 89747\n",
      "Data columns (total 15 columns):\n",
      " #   Column                   Non-Null Count  Dtype  \n",
      "---  ------                   --------------  -----  \n",
      " 0   Trip Duration            89748 non-null  int64  \n",
      " 1   Start Time               89748 non-null  object \n",
      " 2   Stop Time                89748 non-null  object \n",
      " 3   Start Station ID         89748 non-null  int64  \n",
      " 4   Start Station Name       89748 non-null  object \n",
      " 5   Start Station Latitude   89748 non-null  float64\n",
      " 6   Start Station Longitude  89748 non-null  float64\n",
      " 7   End Station ID           89748 non-null  int64  \n",
      " 8   End Station Name         89748 non-null  object \n",
      " 9   End Station Latitude     89748 non-null  float64\n",
      " 10  End Station Longitude    89748 non-null  float64\n",
      " 11  Bike ID                  89748 non-null  int64  \n",
      " 12  User Type                89748 non-null  object \n",
      " 13  Birth Year               86124 non-null  float64\n",
      " 14  Gender                   89748 non-null  int64  \n",
      "dtypes: float64(5), int64(5), object(5)\n",
      "memory usage: 10.3+ MB\n"
     ]
    }
   ],
   "source": [
    "citi_bike_data.info()   #pandas function shows the data types of each column and how many non-null values are present.\n",
    "\n",
    "#Need to fill with mean the 3624 missing values from the Birth Year Column and ensure all data types are correct\n"
   ]
  },
  {
   "cell_type": "code",
   "execution_count": 67,
   "id": "984acd66-3696-4eaa-b2cc-d0ef5cd81727",
   "metadata": {},
   "outputs": [
    {
     "name": "stdout",
     "output_type": "stream",
     "text": [
      "0\n"
     ]
    }
   ],
   "source": [
    "# Calculate the mean of the 'Birth Year' column (ignoring missing values)\n",
    "mean_birth_year = citi_bike_data['Birth Year'].mean()\n",
    "\n",
    "# Fill missing values in the 'Birth Year' column with the mean and assign it back to the column\n",
    "citi_bike_data['Birth Year'] = citi_bike_data['Birth Year'].fillna(mean_birth_year)\n",
    "\n",
    "# Verify that the missing values have been filled\n",
    "print(citi_bike_data['Birth Year'].isna().sum())  # Should print 0 if no missing values remain\n"
   ]
  },
  {
   "cell_type": "code",
   "execution_count": 68,
   "id": "9a0a8f13-0726-462e-a62b-26e24e23f2f5",
   "metadata": {},
   "outputs": [
    {
     "name": "stdout",
     "output_type": "stream",
     "text": [
      "<class 'pandas.core.frame.DataFrame'>\n",
      "RangeIndex: 89748 entries, 0 to 89747\n",
      "Data columns (total 15 columns):\n",
      " #   Column                   Non-Null Count  Dtype  \n",
      "---  ------                   --------------  -----  \n",
      " 0   Trip Duration            89748 non-null  int64  \n",
      " 1   Start Time               89748 non-null  object \n",
      " 2   Stop Time                89748 non-null  object \n",
      " 3   Start Station ID         89748 non-null  int64  \n",
      " 4   Start Station Name       89748 non-null  object \n",
      " 5   Start Station Latitude   89748 non-null  float64\n",
      " 6   Start Station Longitude  89748 non-null  float64\n",
      " 7   End Station ID           89748 non-null  int64  \n",
      " 8   End Station Name         89748 non-null  object \n",
      " 9   End Station Latitude     89748 non-null  float64\n",
      " 10  End Station Longitude    89748 non-null  float64\n",
      " 11  Bike ID                  89748 non-null  int64  \n",
      " 12  User Type                89748 non-null  object \n",
      " 13  Birth Year               89748 non-null  float64\n",
      " 14  Gender                   89748 non-null  int64  \n",
      "dtypes: float64(5), int64(5), object(5)\n",
      "memory usage: 10.3+ MB\n"
     ]
    }
   ],
   "source": [
    "citi_bike_data.info()   #pandas function shows the data types of each column and how many non-null values are present.\n"
   ]
  },
  {
   "cell_type": "code",
   "execution_count": 72,
   "id": "7ea6f889-a084-45df-8a22-da3b3f1aa5c5",
   "metadata": {},
   "outputs": [],
   "source": [
    "#Handling Non-Standard Date Formats:\n",
    "#If your date format isn't automatically detected (for example, if it uses a different separator or date format), \n",
    "#you can specify the format explicitly using the format parameter. For example:\n",
    "\n",
    "#    %m stands for the month,\n",
    "#    %d for the day,\n",
    "#    %Y for the 4-digit year."
   ]
  },
  {
   "cell_type": "code",
   "execution_count": 73,
   "id": "b90e197b-3717-4b43-95ce-91ed76341528",
   "metadata": {},
   "outputs": [
    {
     "ename": "ValueError",
     "evalue": "time data \"2016-01-01 00:02:52\" doesn't match format \"%m/%d/%Y %H:%M\", at position 0. You might want to try:\n    - passing `format` if your strings have a consistent format;\n    - passing `format='ISO8601'` if your strings are all ISO8601 but not necessarily in exactly the same format;\n    - passing `format='mixed'`, and the format will be inferred for each element individually. You might want to use `dayfirst` alongside this.",
     "output_type": "error",
     "traceback": [
      "\u001b[1;31m---------------------------------------------------------------------------\u001b[0m",
      "\u001b[1;31mValueError\u001b[0m                                Traceback (most recent call last)",
      "Cell \u001b[1;32mIn[73], line 2\u001b[0m\n\u001b[0;32m      1\u001b[0m \u001b[38;5;66;03m# Convert 'Start Time' and 'Stop Time' columns to datetime type with proper format\u001b[39;00m\n\u001b[1;32m----> 2\u001b[0m citi_bike_data[\u001b[38;5;124m'\u001b[39m\u001b[38;5;124mStart Time\u001b[39m\u001b[38;5;124m'\u001b[39m] \u001b[38;5;241m=\u001b[39m \u001b[43mpd\u001b[49m\u001b[38;5;241;43m.\u001b[39;49m\u001b[43mto_datetime\u001b[49m\u001b[43m(\u001b[49m\u001b[43mciti_bike_data\u001b[49m\u001b[43m[\u001b[49m\u001b[38;5;124;43m'\u001b[39;49m\u001b[38;5;124;43mStart Time\u001b[39;49m\u001b[38;5;124;43m'\u001b[39;49m\u001b[43m]\u001b[49m\u001b[43m,\u001b[49m\u001b[43m \u001b[49m\u001b[38;5;28;43mformat\u001b[39;49m\u001b[38;5;241;43m=\u001b[39;49m\u001b[38;5;124;43m'\u001b[39;49m\u001b[38;5;124;43m%\u001b[39;49m\u001b[38;5;124;43mm/\u001b[39;49m\u001b[38;5;132;43;01m%d\u001b[39;49;00m\u001b[38;5;124;43m/\u001b[39;49m\u001b[38;5;124;43m%\u001b[39;49m\u001b[38;5;124;43mY \u001b[39;49m\u001b[38;5;124;43m%\u001b[39;49m\u001b[38;5;124;43mH:\u001b[39;49m\u001b[38;5;124;43m%\u001b[39;49m\u001b[38;5;124;43mM\u001b[39;49m\u001b[38;5;124;43m'\u001b[39;49m\u001b[43m)\u001b[49m\n\u001b[0;32m      3\u001b[0m citi_bike_data[\u001b[38;5;124m'\u001b[39m\u001b[38;5;124mStop Time\u001b[39m\u001b[38;5;124m'\u001b[39m] \u001b[38;5;241m=\u001b[39m pd\u001b[38;5;241m.\u001b[39mto_datetime(citi_bike_data[\u001b[38;5;124m'\u001b[39m\u001b[38;5;124mStop Time\u001b[39m\u001b[38;5;124m'\u001b[39m], \u001b[38;5;28mformat\u001b[39m\u001b[38;5;241m=\u001b[39m\u001b[38;5;124m'\u001b[39m\u001b[38;5;124m%\u001b[39m\u001b[38;5;124mm/\u001b[39m\u001b[38;5;132;01m%d\u001b[39;00m\u001b[38;5;124m/\u001b[39m\u001b[38;5;124m%\u001b[39m\u001b[38;5;124mY \u001b[39m\u001b[38;5;124m%\u001b[39m\u001b[38;5;124mH:\u001b[39m\u001b[38;5;124m%\u001b[39m\u001b[38;5;124mM\u001b[39m\u001b[38;5;124m'\u001b[39m)\n\u001b[0;32m      5\u001b[0m \u001b[38;5;66;03m# Verify the conversion\u001b[39;00m\n",
      "File \u001b[1;32m~\\AppData\\Local\\Programs\\Python\\Python313\\Lib\\site-packages\\pandas\\core\\tools\\datetimes.py:1067\u001b[0m, in \u001b[0;36mto_datetime\u001b[1;34m(arg, errors, dayfirst, yearfirst, utc, format, exact, unit, infer_datetime_format, origin, cache)\u001b[0m\n\u001b[0;32m   1065\u001b[0m         result \u001b[38;5;241m=\u001b[39m arg\u001b[38;5;241m.\u001b[39mmap(cache_array)\n\u001b[0;32m   1066\u001b[0m     \u001b[38;5;28;01melse\u001b[39;00m:\n\u001b[1;32m-> 1067\u001b[0m         values \u001b[38;5;241m=\u001b[39m \u001b[43mconvert_listlike\u001b[49m\u001b[43m(\u001b[49m\u001b[43marg\u001b[49m\u001b[38;5;241;43m.\u001b[39;49m\u001b[43m_values\u001b[49m\u001b[43m,\u001b[49m\u001b[43m \u001b[49m\u001b[38;5;28;43mformat\u001b[39;49m\u001b[43m)\u001b[49m\n\u001b[0;32m   1068\u001b[0m         result \u001b[38;5;241m=\u001b[39m arg\u001b[38;5;241m.\u001b[39m_constructor(values, index\u001b[38;5;241m=\u001b[39marg\u001b[38;5;241m.\u001b[39mindex, name\u001b[38;5;241m=\u001b[39marg\u001b[38;5;241m.\u001b[39mname)\n\u001b[0;32m   1069\u001b[0m \u001b[38;5;28;01melif\u001b[39;00m \u001b[38;5;28misinstance\u001b[39m(arg, (ABCDataFrame, abc\u001b[38;5;241m.\u001b[39mMutableMapping)):\n",
      "File \u001b[1;32m~\\AppData\\Local\\Programs\\Python\\Python313\\Lib\\site-packages\\pandas\\core\\tools\\datetimes.py:433\u001b[0m, in \u001b[0;36m_convert_listlike_datetimes\u001b[1;34m(arg, format, name, utc, unit, errors, dayfirst, yearfirst, exact)\u001b[0m\n\u001b[0;32m    431\u001b[0m \u001b[38;5;66;03m# `format` could be inferred, or user didn't ask for mixed-format parsing.\u001b[39;00m\n\u001b[0;32m    432\u001b[0m \u001b[38;5;28;01mif\u001b[39;00m \u001b[38;5;28mformat\u001b[39m \u001b[38;5;129;01mis\u001b[39;00m \u001b[38;5;129;01mnot\u001b[39;00m \u001b[38;5;28;01mNone\u001b[39;00m \u001b[38;5;129;01mand\u001b[39;00m \u001b[38;5;28mformat\u001b[39m \u001b[38;5;241m!=\u001b[39m \u001b[38;5;124m\"\u001b[39m\u001b[38;5;124mmixed\u001b[39m\u001b[38;5;124m\"\u001b[39m:\n\u001b[1;32m--> 433\u001b[0m     \u001b[38;5;28;01mreturn\u001b[39;00m \u001b[43m_array_strptime_with_fallback\u001b[49m\u001b[43m(\u001b[49m\u001b[43marg\u001b[49m\u001b[43m,\u001b[49m\u001b[43m \u001b[49m\u001b[43mname\u001b[49m\u001b[43m,\u001b[49m\u001b[43m \u001b[49m\u001b[43mutc\u001b[49m\u001b[43m,\u001b[49m\u001b[43m \u001b[49m\u001b[38;5;28;43mformat\u001b[39;49m\u001b[43m,\u001b[49m\u001b[43m \u001b[49m\u001b[43mexact\u001b[49m\u001b[43m,\u001b[49m\u001b[43m \u001b[49m\u001b[43merrors\u001b[49m\u001b[43m)\u001b[49m\n\u001b[0;32m    435\u001b[0m result, tz_parsed \u001b[38;5;241m=\u001b[39m objects_to_datetime64(\n\u001b[0;32m    436\u001b[0m     arg,\n\u001b[0;32m    437\u001b[0m     dayfirst\u001b[38;5;241m=\u001b[39mdayfirst,\n\u001b[1;32m   (...)\u001b[0m\n\u001b[0;32m    441\u001b[0m     allow_object\u001b[38;5;241m=\u001b[39m\u001b[38;5;28;01mTrue\u001b[39;00m,\n\u001b[0;32m    442\u001b[0m )\n\u001b[0;32m    444\u001b[0m \u001b[38;5;28;01mif\u001b[39;00m tz_parsed \u001b[38;5;129;01mis\u001b[39;00m \u001b[38;5;129;01mnot\u001b[39;00m \u001b[38;5;28;01mNone\u001b[39;00m:\n\u001b[0;32m    445\u001b[0m     \u001b[38;5;66;03m# We can take a shortcut since the datetime64 numpy array\u001b[39;00m\n\u001b[0;32m    446\u001b[0m     \u001b[38;5;66;03m# is in UTC\u001b[39;00m\n",
      "File \u001b[1;32m~\\AppData\\Local\\Programs\\Python\\Python313\\Lib\\site-packages\\pandas\\core\\tools\\datetimes.py:467\u001b[0m, in \u001b[0;36m_array_strptime_with_fallback\u001b[1;34m(arg, name, utc, fmt, exact, errors)\u001b[0m\n\u001b[0;32m    456\u001b[0m \u001b[38;5;28;01mdef\u001b[39;00m \u001b[38;5;21m_array_strptime_with_fallback\u001b[39m(\n\u001b[0;32m    457\u001b[0m     arg,\n\u001b[0;32m    458\u001b[0m     name,\n\u001b[1;32m   (...)\u001b[0m\n\u001b[0;32m    462\u001b[0m     errors: \u001b[38;5;28mstr\u001b[39m,\n\u001b[0;32m    463\u001b[0m ) \u001b[38;5;241m-\u001b[39m\u001b[38;5;241m>\u001b[39m Index:\n\u001b[0;32m    464\u001b[0m \u001b[38;5;250m    \u001b[39m\u001b[38;5;124;03m\"\"\"\u001b[39;00m\n\u001b[0;32m    465\u001b[0m \u001b[38;5;124;03m    Call array_strptime, with fallback behavior depending on 'errors'.\u001b[39;00m\n\u001b[0;32m    466\u001b[0m \u001b[38;5;124;03m    \"\"\"\u001b[39;00m\n\u001b[1;32m--> 467\u001b[0m     result, tz_out \u001b[38;5;241m=\u001b[39m \u001b[43marray_strptime\u001b[49m\u001b[43m(\u001b[49m\u001b[43marg\u001b[49m\u001b[43m,\u001b[49m\u001b[43m \u001b[49m\u001b[43mfmt\u001b[49m\u001b[43m,\u001b[49m\u001b[43m \u001b[49m\u001b[43mexact\u001b[49m\u001b[38;5;241;43m=\u001b[39;49m\u001b[43mexact\u001b[49m\u001b[43m,\u001b[49m\u001b[43m \u001b[49m\u001b[43merrors\u001b[49m\u001b[38;5;241;43m=\u001b[39;49m\u001b[43merrors\u001b[49m\u001b[43m,\u001b[49m\u001b[43m \u001b[49m\u001b[43mutc\u001b[49m\u001b[38;5;241;43m=\u001b[39;49m\u001b[43mutc\u001b[49m\u001b[43m)\u001b[49m\n\u001b[0;32m    468\u001b[0m     \u001b[38;5;28;01mif\u001b[39;00m tz_out \u001b[38;5;129;01mis\u001b[39;00m \u001b[38;5;129;01mnot\u001b[39;00m \u001b[38;5;28;01mNone\u001b[39;00m:\n\u001b[0;32m    469\u001b[0m         unit \u001b[38;5;241m=\u001b[39m np\u001b[38;5;241m.\u001b[39mdatetime_data(result\u001b[38;5;241m.\u001b[39mdtype)[\u001b[38;5;241m0\u001b[39m]\n",
      "File \u001b[1;32mstrptime.pyx:501\u001b[0m, in \u001b[0;36mpandas._libs.tslibs.strptime.array_strptime\u001b[1;34m()\u001b[0m\n",
      "File \u001b[1;32mstrptime.pyx:451\u001b[0m, in \u001b[0;36mpandas._libs.tslibs.strptime.array_strptime\u001b[1;34m()\u001b[0m\n",
      "File \u001b[1;32mstrptime.pyx:583\u001b[0m, in \u001b[0;36mpandas._libs.tslibs.strptime._parse_with_format\u001b[1;34m()\u001b[0m\n",
      "\u001b[1;31mValueError\u001b[0m: time data \"2016-01-01 00:02:52\" doesn't match format \"%m/%d/%Y %H:%M\", at position 0. You might want to try:\n    - passing `format` if your strings have a consistent format;\n    - passing `format='ISO8601'` if your strings are all ISO8601 but not necessarily in exactly the same format;\n    - passing `format='mixed'`, and the format will be inferred for each element individually. You might want to use `dayfirst` alongside this."
     ]
    }
   ],
   "source": [
    "# Convert 'Start Time' and 'Stop Time' columns to datetime type with proper format\n",
    "citi_bike_data['Start Time'] = pd.to_datetime(citi_bike_data['Start Time'], format='%m/%d/%Y %H:%M')\n",
    "citi_bike_data['Stop Time'] = pd.to_datetime(citi_bike_data['Stop Time'], format='%m/%d/%Y %H:%M')\n",
    "\n",
    "# Verify the conversion\n",
    "print(citi_bike_data['Start Time'].dtype)  # Should print: datetime64[ns]\n",
    "print(citi_bike_data['Stop Time'].dtype)  # Should print: datetime64[ns]\n"
   ]
  },
  {
   "cell_type": "code",
   "execution_count": 74,
   "id": "005fc515-7b0a-4512-876d-15b8c7414eca",
   "metadata": {},
   "outputs": [
    {
     "name": "stdout",
     "output_type": "stream",
     "text": [
      "datetime64[ns]\n",
      "datetime64[ns]\n"
     ]
    }
   ],
   "source": [
    "# Try converting to ISO 8601 format (which is commonly used)\n",
    "citi_bike_data['Start Time'] = pd.to_datetime(citi_bike_data['Start Time'], errors='coerce', format='%Y-%m-%d %H:%M:%S')\n",
    "citi_bike_data['Stop Time'] = pd.to_datetime(citi_bike_data['Stop Time'], errors='coerce', format='%Y-%m-%d %H:%M:%S')\n",
    "\n",
    "# If there are still NaT values, try using a different format for US-style date formats\n",
    "#citi_bike_data['Start Time'] = pd.to_datetime(citi_bike_data['Start Time'], errors='coerce', format='%m/%d/%Y %H:%M')\n",
    "#citi_bike_data['Stop Time'] = pd.to_datetime(citi_bike_data['Stop Time'], errors='coerce', format='%m/%d/%Y %H:%M')\n",
    "\n",
    "# Verify that both formats are handled\n",
    "print(citi_bike_data['Start Time'].dtype)  # Should print: datetime64[ns]\n",
    "print(citi_bike_data['Stop Time'].dtype)  # Should print: datetime64[ns]\n"
   ]
  },
  {
   "cell_type": "code",
   "execution_count": 75,
   "id": "42ea4688-489e-4d50-8a26-a5ce40b53626",
   "metadata": {},
   "outputs": [
    {
     "name": "stdout",
     "output_type": "stream",
     "text": [
      "<class 'pandas.core.frame.DataFrame'>\n",
      "RangeIndex: 89748 entries, 0 to 89747\n",
      "Data columns (total 15 columns):\n",
      " #   Column                   Non-Null Count  Dtype         \n",
      "---  ------                   --------------  -----         \n",
      " 0   Trip Duration            89748 non-null  int64         \n",
      " 1   Start Time               89748 non-null  datetime64[ns]\n",
      " 2   Stop Time                89748 non-null  datetime64[ns]\n",
      " 3   Start Station ID         89748 non-null  int64         \n",
      " 4   Start Station Name       89748 non-null  object        \n",
      " 5   Start Station Latitude   89748 non-null  float64       \n",
      " 6   Start Station Longitude  89748 non-null  float64       \n",
      " 7   End Station ID           89748 non-null  int64         \n",
      " 8   End Station Name         89748 non-null  object        \n",
      " 9   End Station Latitude     89748 non-null  float64       \n",
      " 10  End Station Longitude    89748 non-null  float64       \n",
      " 11  Bike ID                  89748 non-null  int64         \n",
      " 12  User Type                89748 non-null  object        \n",
      " 13  Birth Year               89748 non-null  float64       \n",
      " 14  Gender                   89748 non-null  int64         \n",
      "dtypes: datetime64[ns](2), float64(5), int64(5), object(3)\n",
      "memory usage: 10.3+ MB\n"
     ]
    }
   ],
   "source": [
    "citi_bike_data.info()   #pandas function shows the data types of each column and how many non-null values are present.\n"
   ]
  },
  {
   "cell_type": "code",
   "execution_count": 80,
   "id": "a4252290-8795-4d87-ad0e-b30ef492008a",
   "metadata": {},
   "outputs": [
    {
     "name": "stdout",
     "output_type": "stream",
     "text": [
      "<class 'pandas.core.frame.DataFrame'>\n",
      "RangeIndex: 89748 entries, 0 to 89747\n",
      "Data columns (total 15 columns):\n",
      " #   Column                   Non-Null Count  Dtype         \n",
      "---  ------                   --------------  -----         \n",
      " 0   Trip Duration            89748 non-null  int64         \n",
      " 1   Start Time               89748 non-null  datetime64[ns]\n",
      " 2   Stop Time                89748 non-null  datetime64[ns]\n",
      " 3   Start Station ID         89748 non-null  string        \n",
      " 4   Start Station Name       89748 non-null  object        \n",
      " 5   Start Station Latitude   89748 non-null  float64       \n",
      " 6   Start Station Longitude  89748 non-null  float64       \n",
      " 7   End Station ID           89748 non-null  string        \n",
      " 8   End Station Name         89748 non-null  object        \n",
      " 9   End Station Latitude     89748 non-null  float64       \n",
      " 10  End Station Longitude    89748 non-null  float64       \n",
      " 11  Bike ID                  89748 non-null  int64         \n",
      " 12  User Type                89748 non-null  string        \n",
      " 13  Birth Year               89748 non-null  float64       \n",
      " 14  Gender                   89748 non-null  int64         \n",
      "dtypes: datetime64[ns](2), float64(5), int64(3), object(2), string(3)\n",
      "memory usage: 10.3+ MB\n"
     ]
    }
   ],
   "source": [
    "#need to clean the citi_bike_data, there should be no object data types change data types for Start Station ID, End Station ID, User Type\n",
    "\n",
    "citi_bike_data.columns = citi_bike_data.columns.str.strip()  # Removes leading/trailing spaces\n",
    "\n",
    "# Convert the 'STATION' column to the 'string' data type\n",
    "citi_bike_data['Start Station ID'] = citi_bike_data['Start Station ID'].astype('string')\n",
    "citi_bike_data['End Station ID'] = citi_bike_data['End Station ID'].astype('string')\n",
    "citi_bike_data['User Type'] = citi_bike_data['User Type'].astype('string')\n",
    "\n",
    "citi_bike_data.info()   #pandas function shows the data types of each column and how many non-null values are present.\n",
    "\n",
    "\n"
   ]
  },
  {
   "cell_type": "code",
   "execution_count": 82,
   "id": "322cce7b-5be9-48e9-8045-5db4665f0df9",
   "metadata": {},
   "outputs": [],
   "source": [
    "# Revert 'Start Station ID' to int64\n",
    "citi_bike_data['Start Station ID'] = citi_bike_data['Start Station ID'].astype('int64')"
   ]
  },
  {
   "cell_type": "code",
   "execution_count": 83,
   "id": "594f4f58-fb06-4280-b7c7-78a4e0b44765",
   "metadata": {},
   "outputs": [],
   "source": [
    "citi_bike_data['Start Station Name'] = citi_bike_data['Start Station Name'].astype('string')\n",
    "citi_bike_data['End Station Name'] = citi_bike_data['End Station Name'].astype('string')"
   ]
  },
  {
   "cell_type": "code",
   "execution_count": 84,
   "id": "a577f033-785d-40a7-91e2-b6847f84e743",
   "metadata": {},
   "outputs": [
    {
     "name": "stdout",
     "output_type": "stream",
     "text": [
      "<class 'pandas.core.frame.DataFrame'>\n",
      "RangeIndex: 89748 entries, 0 to 89747\n",
      "Data columns (total 15 columns):\n",
      " #   Column                   Non-Null Count  Dtype         \n",
      "---  ------                   --------------  -----         \n",
      " 0   Trip Duration            89748 non-null  int64         \n",
      " 1   Start Time               89748 non-null  datetime64[ns]\n",
      " 2   Stop Time                89748 non-null  datetime64[ns]\n",
      " 3   Start Station ID         89748 non-null  int64         \n",
      " 4   Start Station Name       89748 non-null  string        \n",
      " 5   Start Station Latitude   89748 non-null  float64       \n",
      " 6   Start Station Longitude  89748 non-null  float64       \n",
      " 7   End Station ID           89748 non-null  string        \n",
      " 8   End Station Name         89748 non-null  string        \n",
      " 9   End Station Latitude     89748 non-null  float64       \n",
      " 10  End Station Longitude    89748 non-null  float64       \n",
      " 11  Bike ID                  89748 non-null  int64         \n",
      " 12  User Type                89748 non-null  string        \n",
      " 13  Birth Year               89748 non-null  float64       \n",
      " 14  Gender                   89748 non-null  int64         \n",
      "dtypes: datetime64[ns](2), float64(5), int64(4), string(4)\n",
      "memory usage: 10.3 MB\n"
     ]
    }
   ],
   "source": [
    "citi_bike_data.info()   #pandas function shows the data types of each column and how many non-null values are present.\n"
   ]
  },
  {
   "cell_type": "markdown",
   "id": "ec1edb71-1e13-4d73-a19f-dd9e9e44af59",
   "metadata": {},
   "source": [
    "Fix Suspicious Data\n",
    "    - After identifying missing values, you should check for data that seems out of place or incorrect (e.g., negative bike rentals, extreme weather values).                                                                                        \n",
    "                                                                                                      \n"
   ]
  },
  {
   "cell_type": "code",
   "execution_count": 91,
   "id": "327115cc-2e6b-43c6-993c-0916f213e14b",
   "metadata": {},
   "outputs": [],
   "source": [
    "#Duplicated Data: Remove duplicates if any\n",
    "\n",
    "citi_bike_data.drop_duplicates(inplace=True)\n",
    "weather_data.drop_duplicates(inplace=True)\n",
    "\n"
   ]
  },
  {
   "cell_type": "markdown",
   "id": "8efac39b-8cae-4d8a-9ccc-1e268675eeb8",
   "metadata": {},
   "source": [
    "Create New Columns (Feature Engineering)"
   ]
  },
  {
   "cell_type": "markdown",
   "id": "8a90e540-ea80-4a2f-9fc7-41517b1b681c",
   "metadata": {},
   "source": [
    "    Think about what the analysts might want to explore. Here are a few ideas for additional columns you could create:\n",
    "\n",
    "    (Date-related Columns: Extract year, month, day of the week, or hour from the timestamp.)"
   ]
  },
  {
   "cell_type": "code",
   "execution_count": 92,
   "id": "062788dc-2efb-4cdf-9843-c00d5f94016d",
   "metadata": {},
   "outputs": [
    {
     "ename": "KeyError",
     "evalue": "'start_time'",
     "output_type": "error",
     "traceback": [
      "\u001b[1;31m---------------------------------------------------------------------------\u001b[0m",
      "\u001b[1;31mKeyError\u001b[0m                                  Traceback (most recent call last)",
      "File \u001b[1;32m~\\AppData\\Local\\Programs\\Python\\Python313\\Lib\\site-packages\\pandas\\core\\indexes\\base.py:3805\u001b[0m, in \u001b[0;36mIndex.get_loc\u001b[1;34m(self, key)\u001b[0m\n\u001b[0;32m   3804\u001b[0m \u001b[38;5;28;01mtry\u001b[39;00m:\n\u001b[1;32m-> 3805\u001b[0m     \u001b[38;5;28;01mreturn\u001b[39;00m \u001b[38;5;28;43mself\u001b[39;49m\u001b[38;5;241;43m.\u001b[39;49m\u001b[43m_engine\u001b[49m\u001b[38;5;241;43m.\u001b[39;49m\u001b[43mget_loc\u001b[49m\u001b[43m(\u001b[49m\u001b[43mcasted_key\u001b[49m\u001b[43m)\u001b[49m\n\u001b[0;32m   3806\u001b[0m \u001b[38;5;28;01mexcept\u001b[39;00m \u001b[38;5;167;01mKeyError\u001b[39;00m \u001b[38;5;28;01mas\u001b[39;00m err:\n",
      "File \u001b[1;32mindex.pyx:167\u001b[0m, in \u001b[0;36mpandas._libs.index.IndexEngine.get_loc\u001b[1;34m()\u001b[0m\n",
      "File \u001b[1;32mindex.pyx:196\u001b[0m, in \u001b[0;36mpandas._libs.index.IndexEngine.get_loc\u001b[1;34m()\u001b[0m\n",
      "File \u001b[1;32mpandas\\\\_libs\\\\hashtable_class_helper.pxi:7081\u001b[0m, in \u001b[0;36mpandas._libs.hashtable.PyObjectHashTable.get_item\u001b[1;34m()\u001b[0m\n",
      "File \u001b[1;32mpandas\\\\_libs\\\\hashtable_class_helper.pxi:7089\u001b[0m, in \u001b[0;36mpandas._libs.hashtable.PyObjectHashTable.get_item\u001b[1;34m()\u001b[0m\n",
      "\u001b[1;31mKeyError\u001b[0m: 'start_time'",
      "\nThe above exception was the direct cause of the following exception:\n",
      "\u001b[1;31mKeyError\u001b[0m                                  Traceback (most recent call last)",
      "Cell \u001b[1;32mIn[92], line 1\u001b[0m\n\u001b[1;32m----> 1\u001b[0m citi_bike_data[\u001b[38;5;124m'\u001b[39m\u001b[38;5;124myear\u001b[39m\u001b[38;5;124m'\u001b[39m] \u001b[38;5;241m=\u001b[39m \u001b[43mciti_bike_data\u001b[49m\u001b[43m[\u001b[49m\u001b[38;5;124;43m'\u001b[39;49m\u001b[38;5;124;43mstart_time\u001b[39;49m\u001b[38;5;124;43m'\u001b[39;49m\u001b[43m]\u001b[49m\u001b[38;5;241m.\u001b[39mdt\u001b[38;5;241m.\u001b[39myear\n\u001b[0;32m      2\u001b[0m citi_bike_data[\u001b[38;5;124m'\u001b[39m\u001b[38;5;124mmonth\u001b[39m\u001b[38;5;124m'\u001b[39m] \u001b[38;5;241m=\u001b[39m citi_bike_data[\u001b[38;5;124m'\u001b[39m\u001b[38;5;124mstart_time\u001b[39m\u001b[38;5;124m'\u001b[39m]\u001b[38;5;241m.\u001b[39mdt\u001b[38;5;241m.\u001b[39mmonth\n\u001b[0;32m      3\u001b[0m citi_bike_data[\u001b[38;5;124m'\u001b[39m\u001b[38;5;124mday_of_week\u001b[39m\u001b[38;5;124m'\u001b[39m] \u001b[38;5;241m=\u001b[39m citi_bike_data[\u001b[38;5;124m'\u001b[39m\u001b[38;5;124mstart_time\u001b[39m\u001b[38;5;124m'\u001b[39m]\u001b[38;5;241m.\u001b[39mdt\u001b[38;5;241m.\u001b[39mweekday\n",
      "File \u001b[1;32m~\\AppData\\Local\\Programs\\Python\\Python313\\Lib\\site-packages\\pandas\\core\\frame.py:4102\u001b[0m, in \u001b[0;36mDataFrame.__getitem__\u001b[1;34m(self, key)\u001b[0m\n\u001b[0;32m   4100\u001b[0m \u001b[38;5;28;01mif\u001b[39;00m \u001b[38;5;28mself\u001b[39m\u001b[38;5;241m.\u001b[39mcolumns\u001b[38;5;241m.\u001b[39mnlevels \u001b[38;5;241m>\u001b[39m \u001b[38;5;241m1\u001b[39m:\n\u001b[0;32m   4101\u001b[0m     \u001b[38;5;28;01mreturn\u001b[39;00m \u001b[38;5;28mself\u001b[39m\u001b[38;5;241m.\u001b[39m_getitem_multilevel(key)\n\u001b[1;32m-> 4102\u001b[0m indexer \u001b[38;5;241m=\u001b[39m \u001b[38;5;28;43mself\u001b[39;49m\u001b[38;5;241;43m.\u001b[39;49m\u001b[43mcolumns\u001b[49m\u001b[38;5;241;43m.\u001b[39;49m\u001b[43mget_loc\u001b[49m\u001b[43m(\u001b[49m\u001b[43mkey\u001b[49m\u001b[43m)\u001b[49m\n\u001b[0;32m   4103\u001b[0m \u001b[38;5;28;01mif\u001b[39;00m is_integer(indexer):\n\u001b[0;32m   4104\u001b[0m     indexer \u001b[38;5;241m=\u001b[39m [indexer]\n",
      "File \u001b[1;32m~\\AppData\\Local\\Programs\\Python\\Python313\\Lib\\site-packages\\pandas\\core\\indexes\\base.py:3812\u001b[0m, in \u001b[0;36mIndex.get_loc\u001b[1;34m(self, key)\u001b[0m\n\u001b[0;32m   3807\u001b[0m     \u001b[38;5;28;01mif\u001b[39;00m \u001b[38;5;28misinstance\u001b[39m(casted_key, \u001b[38;5;28mslice\u001b[39m) \u001b[38;5;129;01mor\u001b[39;00m (\n\u001b[0;32m   3808\u001b[0m         \u001b[38;5;28misinstance\u001b[39m(casted_key, abc\u001b[38;5;241m.\u001b[39mIterable)\n\u001b[0;32m   3809\u001b[0m         \u001b[38;5;129;01mand\u001b[39;00m \u001b[38;5;28many\u001b[39m(\u001b[38;5;28misinstance\u001b[39m(x, \u001b[38;5;28mslice\u001b[39m) \u001b[38;5;28;01mfor\u001b[39;00m x \u001b[38;5;129;01min\u001b[39;00m casted_key)\n\u001b[0;32m   3810\u001b[0m     ):\n\u001b[0;32m   3811\u001b[0m         \u001b[38;5;28;01mraise\u001b[39;00m InvalidIndexError(key)\n\u001b[1;32m-> 3812\u001b[0m     \u001b[38;5;28;01mraise\u001b[39;00m \u001b[38;5;167;01mKeyError\u001b[39;00m(key) \u001b[38;5;28;01mfrom\u001b[39;00m \u001b[38;5;21;01merr\u001b[39;00m\n\u001b[0;32m   3813\u001b[0m \u001b[38;5;28;01mexcept\u001b[39;00m \u001b[38;5;167;01mTypeError\u001b[39;00m:\n\u001b[0;32m   3814\u001b[0m     \u001b[38;5;66;03m# If we have a listlike key, _check_indexing_error will raise\u001b[39;00m\n\u001b[0;32m   3815\u001b[0m     \u001b[38;5;66;03m#  InvalidIndexError. Otherwise we fall through and re-raise\u001b[39;00m\n\u001b[0;32m   3816\u001b[0m     \u001b[38;5;66;03m#  the TypeError.\u001b[39;00m\n\u001b[0;32m   3817\u001b[0m     \u001b[38;5;28mself\u001b[39m\u001b[38;5;241m.\u001b[39m_check_indexing_error(key)\n",
      "\u001b[1;31mKeyError\u001b[0m: 'start_time'"
     ]
    }
   ],
   "source": [
    "citi_bike_data['year'] = citi_bike_data['start_time'].dt.year\n",
    "citi_bike_data['month'] = citi_bike_data['start_time'].dt.month\n",
    "citi_bike_data['day_of_week'] = citi_bike_data['start_time'].dt.weekday\n",
    "citi_bike_data['hour'] = citi_bike_data['start_time'].dt.hour\n",
    "\n"
   ]
  },
  {
   "cell_type": "code",
   "execution_count": 93,
   "id": "3964546f-2aba-458a-941a-3c2bba26d44e",
   "metadata": {},
   "outputs": [],
   "source": [
    "#Weather Flags: Create columns indicating whether certain weather conditions are met (e.g., \"rainy_day\", \"snowy_day\").\n",
    "\n",
    "weather_data['rainy_day'] = weather_data['PRCP'] > 0\n",
    "weather_data['snowy_day'] = weather_data['SNOW'] > 0\n"
   ]
  },
  {
   "cell_type": "code",
   "execution_count": 94,
   "id": "61a1b5f5-6d40-42c4-ba53-f268aa77080d",
   "metadata": {},
   "outputs": [],
   "source": [
    "#Join Indicator: Create a column to indicate whether a ride took place during a particularly hot or cold weather period (useful for analysis).\n",
    "\n",
    "citi_bike_data['high_temp_day'] = citi_bike_data['Start Time'].dt.date.isin(\n",
    "    weather_data[weather_data['TMAX'] > 85]['DATE'] #TMAX is max teperature\n",
    ")\n"
   ]
  },
  {
   "cell_type": "markdown",
   "id": "6b584ba7-8ab7-4f91-9d14-6d711dc611f4",
   "metadata": {},
   "source": [
    "Save the Cleaned Data"
   ]
  },
  {
   "cell_type": "markdown",
   "id": "9733ba0a-9b94-4683-99e4-1989f998a972",
   "metadata": {},
   "source": [
    "     After cleaning and transforming the data, save it to CSV or directly into the PostgreSQL database."
   ]
  },
  {
   "cell_type": "code",
   "execution_count": 96,
   "id": "cf3d32e3-9a16-4f43-bd9b-3b23e9eacf81",
   "metadata": {},
   "outputs": [],
   "source": [
    "citi_bike_data.to_csv('cleaned_citi_bike_data.csv', index=False)\n",
    "weather_data.to_csv('cleaned_weather_data.csv', index=False)\n"
   ]
  },
  {
   "cell_type": "markdown",
   "id": "e3618119-9d12-4de0-9698-7486d4d2c6f4",
   "metadata": {},
   "source": [
    "Conclusion;\n",
    "    This preparation was crucial for ensuring that your analysis is accurate and reliable. Now that the data has been inspected, cleaned, and transformed both datasets,I can move on to the next steps: merging the datasets and implementing the database.\n"
   ]
  },
  {
   "cell_type": "code",
   "execution_count": null,
   "id": "8965ba07-ae46-4fda-8fbe-94b7cf1aaa00",
   "metadata": {},
   "outputs": [],
   "source": []
  }
 ],
 "metadata": {
  "kernelspec": {
   "display_name": "Python 3 (ipykernel)",
   "language": "python",
   "name": "python3"
  },
  "language_info": {
   "codemirror_mode": {
    "name": "ipython",
    "version": 3
   },
   "file_extension": ".py",
   "mimetype": "text/x-python",
   "name": "python",
   "nbconvert_exporter": "python",
   "pygments_lexer": "ipython3",
   "version": "3.13.0"
  }
 },
 "nbformat": 4,
 "nbformat_minor": 5
}
